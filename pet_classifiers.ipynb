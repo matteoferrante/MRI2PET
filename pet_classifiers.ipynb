{
 "cells": [
  {
   "cell_type": "markdown",
   "id": "9d99bc87-ae23-4ac9-86f8-3a9c3f19479c",
   "metadata": {},
   "source": [
    "## The goal of this notebook is to train classifiers for PET, T1 and Generated PET images"
   ]
  },
  {
   "cell_type": "markdown",
   "id": "4c1f2eb0-9fb7-4856-a392-1a4684c96503",
   "metadata": {},
   "source": [
    "## Training in low data regime, so I've done my best to avoid overfitting.\n",
    "\n",
    "PET data are crop centered and downsampled to half of their dimensions. Images are scaled indipendently to 0,1 <br>\n",
    "Random Gaussian Noise, Flip and gaussian smoothing are augmentations used in training phase <br>\n",
    "\n",
    "The model is a Classifier based on depthwise separable convolutions. <br>\n",
    "The last layer is a BayesianLinear liner, so instead of learning the optimal parameter, the model try to learn a distribution of parameters. This is equivalent to infinite network ensembling. <br>\n",
    "Adam optimizer is used with class weight to deal with unbalanced classes and regularization on weight_decay to deal with overfitting\n"
   ]
  },
  {
   "cell_type": "code",
   "execution_count": 1,
   "id": "1faf7bd2-ad44-43e9-88d3-0f6e52f5a41f",
   "metadata": {},
   "outputs": [
    {
     "name": "stderr",
     "output_type": "stream",
     "text": [
      "Failed to detect the name of this notebook, you can set it manually with the WANDB_NOTEBOOK_NAME environment variable to enable code saving.\n",
      "\u001b[34m\u001b[1mwandb\u001b[0m: Currently logged in as: \u001b[33mmatteoferrante\u001b[0m (\u001b[33mtorvergatafmri\u001b[0m). Use \u001b[1m`wandb login --relogin`\u001b[0m to force relogin\n"
     ]
    }
   ],
   "source": [
    "import numpy as np\n",
    "import torch\n",
    "import matplotlib.pyplot as plt\n",
    "import nibabel as nib\n",
    "import os\n",
    "import glob\n",
    "from os.path import join as opj\n",
    "from mpl_toolkits.axes_grid1 import ImageGrid\n",
    "from unet3D import *\n",
    "from torchsummary import summary\n",
    "import monai\n",
    "from monai.transforms import *\n",
    "from mpl_toolkits.axes_grid1 import ImageGrid\n",
    "import ssim\n",
    "import tqdm\n",
    "\n",
    "from sklearn.model_selection import train_test_split\n",
    "import wandb\n",
    "wandb.login()\n",
    "from network import *\n",
    "from torchvision.utils import make_grid\n",
    "\n",
    "from monai.networks.nets import *\n",
    "\n",
    "from sklearn.metrics import classification_report\n",
    "import torchbnn as bnn"
   ]
  },
  {
   "cell_type": "code",
   "execution_count": 2,
   "id": "8d01115e-8b28-4223-bdde-51b73e517dfa",
   "metadata": {},
   "outputs": [],
   "source": [
    "base_path=\"/home/matteo/data/MRI-PET-AI\"\n",
    "config={}\n",
    "\n",
    "cases=os.listdir(base_path)\n",
    "exclude=['Scripts','temp','SubjectList.txt','Bay_7_Reconstruction_Log.xlsx','PBRKOA_KOA003_010818']\n",
    "\n",
    "cases=[i for i in cases if i not in exclude]"
   ]
  },
  {
   "cell_type": "code",
   "execution_count": 3,
   "id": "8a0a0eba-c3f1-493f-a9d2-cdba8feb179c",
   "metadata": {},
   "outputs": [],
   "source": [
    "label_dict={\"HC\":0, \"CLB\":1, \"KOA\":2}\n",
    "labels=[]\n",
    "for c in cases:\n",
    "    cl=None\n",
    "    if \"HC\" in c:\n",
    "        cl=\"HC\"\n",
    "    elif \"CLB\" in c:\n",
    "        cl=\"CLB\"\n",
    "    elif \"KOA\" in c:\n",
    "        cl=\"KOA\"\n",
    "    if cl is not None:\n",
    "        labels.append(label_dict[cl])"
   ]
  },
  {
   "cell_type": "code",
   "execution_count": 4,
   "id": "c6b9792f-f687-459a-acce-2d39509d3196",
   "metadata": {},
   "outputs": [
    {
     "data": {
      "text/plain": [
       "(204, 204)"
      ]
     },
     "execution_count": 4,
     "metadata": {},
     "output_type": "execute_result"
    }
   ],
   "source": [
    "cases=[os.path.join(base_path,i) for i in cases if i not in exclude]\n",
    "len(labels),len(cases)"
   ]
  },
  {
   "cell_type": "code",
   "execution_count": 5,
   "id": "b2ada05f-f8cc-4ab4-9011-66a4f42b2cdd",
   "metadata": {},
   "outputs": [
    {
     "name": "stdout",
     "output_type": "stream",
     "text": [
      "[INFO] train cases: 163 test cases: 41\n"
     ]
    }
   ],
   "source": [
    "train_cases,test_cases,train_labels,test_labels=train_test_split(cases,labels,test_size=0.20,random_state=42)\n",
    "# train_cases,val_cases,train_labels,val_labels=train_test_split(cases,labels,test_size=0.2)\n",
    "\n",
    "\n",
    "print(f\"[INFO] train cases: {len(train_cases)} test cases: {len(test_cases)}\")"
   ]
  },
  {
   "cell_type": "code",
   "execution_count": 6,
   "id": "af893492-cb3a-4c95-89e1-4d454ac0f8ae",
   "metadata": {},
   "outputs": [
    {
     "data": {
      "text/plain": [
       "[0.8711656441717791, 0.5705521472392638, 0.558282208588957]"
      ]
     },
     "execution_count": 6,
     "metadata": {},
     "output_type": "execute_result"
    }
   ],
   "source": [
    "class_weights=[1-np.sum(np.array(train_labels)==i)/len(train_labels) for i in range(len(set(label_dict.values())))]\n",
    "class_weights"
   ]
  },
  {
   "cell_type": "code",
   "execution_count": 7,
   "id": "10efb577-055e-41e6-8031-de43e0e7cbf0",
   "metadata": {},
   "outputs": [],
   "source": [
    "# print(f\"[INFO] train unbalance: {np.sum(train_labels)/len(train_labels)} test unbalance: {np.sum(test_labels)/len(test_labels)}\")"
   ]
  },
  {
   "cell_type": "code",
   "execution_count": 8,
   "id": "3aad1102-b08c-4319-823d-3979ed2e26ab",
   "metadata": {},
   "outputs": [],
   "source": [
    "class MRIPETDataset(torch.utils.data.Dataset):\n",
    "    def __init__(self, paths, labels,roi=(96,96,96),modality=\"PET\", transform=None, target_transform=None,out_mask=False):\n",
    "        self.paths = paths\n",
    "        self.labels=labels\n",
    "        self.transform = transform\n",
    "        self.target_transform = target_transform\n",
    "        self.roi=roi\n",
    "        self.out_mask=out_mask\n",
    "        self.modality=modality\n",
    "        \n",
    "        \n",
    "    def __len__(self):\n",
    "        return len(self.paths)\n",
    "    \n",
    "\n",
    "    def __getitem__(self, idx):\n",
    "        \n",
    "        images_path=glob.glob(opj(self.paths[idx],\"*.nii.gz\"))\n",
    "        t1_path=[i for i in images_path if \"T1\" in i][0]\n",
    "        pet_path=[i for i in images_path if \"_suv_\" in i][0]\n",
    "        \n",
    "        t1=nib.load(t1_path)\n",
    "        pet=nib.load(pet_path)\n",
    "        \n",
    "        assert t1.shape==pet.shape\n",
    "        half_shape=[s//2 for s in t1.shape]\n",
    "        half_roi=[s//2 for s in self.roi]\n",
    "        dim_0_start=half_shape[0]-half_roi[0]\n",
    "        dim_0_end=half_shape[0]+half_roi[0]\n",
    "\n",
    "        dim_1_start=half_shape[1]-half_roi[1]\n",
    "        dim_1_end=half_shape[1]+half_roi[1]\n",
    "\n",
    "        dim_2_start=half_shape[2]-half_roi[2]\n",
    "        dim_2_end=half_shape[2]+half_roi[2]\n",
    "        \n",
    "        ##choose what data we need to load\n",
    "        label=self.labels[idx]\n",
    "        \n",
    "        if self.modality==\"PET\":\n",
    "            pet=pet.dataobj[dim_0_start:dim_0_end,dim_1_start:dim_1_end,dim_2_start:dim_2_end]\n",
    "            pet=torch.Tensor(np.expand_dims(pet,0))\n",
    "            if self.target_transform:\n",
    "                pet = self.target_transform(pet)\n",
    "                \n",
    "            return pet,label\n",
    "                \n",
    "                \n",
    "            \n",
    "        elif self.modality==\"MRI\":\n",
    "            t1=t1.dataobj[dim_0_start:dim_0_end,dim_1_start:dim_1_end,dim_2_start:dim_2_end]\n",
    "            t1=torch.Tensor(np.expand_dims(t1,0))\n",
    "            if self.transform:\n",
    "                t1 = self.transform(t1)\n",
    "                \n",
    "            return t1,label\n",
    "        \n",
    "        elif self.modality==\"both\":\n",
    "            pet=pet.dataobj[dim_0_start:dim_0_end,dim_1_start:dim_1_end,dim_2_start:dim_2_end]\n",
    "            pet=torch.Tensor(np.expand_dims(pet,0))\n",
    "            if self.target_transform:\n",
    "                pet = self.target_transform(pet)\n",
    "                \n",
    "            t1=t1.dataobj[dim_0_start:dim_0_end,dim_1_start:dim_1_end,dim_2_start:dim_2_end]\n",
    "            t1=torch.Tensor(np.expand_dims(t1,0))\n",
    "            if self.transform:\n",
    "                t1 = self.transform(t1)\n",
    "            \n",
    "\n",
    "            if self.out_mask:\n",
    "                mask=(t1>0)*1.\n",
    "                return t1,pet,mask,label\n",
    "            else:\n",
    "                return t1,pet, label\n",
    "        \n",
    "\n",
    "        \n",
    "        \n",
    "        \n",
    "        \n",
    "        \n"
   ]
  },
  {
   "cell_type": "code",
   "execution_count": 24,
   "id": "ac6919d4-84e7-40e6-8659-0bc6ecd25aab",
   "metadata": {},
   "outputs": [],
   "source": [
    "BS=16\n",
    "modality=\"PET\"\n",
    "config[\"BS\"]=BS\n",
    "config[\"modality\"]=modality\n",
    "\n",
    "transform_mri=Compose([ScaleIntensityRangePercentiles(1,99,0,1)])\n",
    "transform_pet=Compose([Spacing(pixdim=(2,2,2),image_only=True),\n",
    "                       ScaleIntensity(0,1),\n",
    "                       RandFlip(0.3,spatial_axis=[1,2,]),\n",
    "                       RandGaussianSmooth(sigma_x=(0.25, 1.5), sigma_y=(0.25, 1.5), sigma_z=(0.25, 1.5), prob=0.1),\n",
    "                      ])\n",
    "\n",
    "transform_pet_test=Compose([Spacing(pixdim=(2,2,2),image_only=True),\n",
    "                       ScaleIntensity(0,1),])\n",
    "\n",
    "#transform_pet=None\n",
    "\n",
    "train_dataset=MRIPETDataset(train_cases,train_labels,modality=modality,transform=transform_mri,target_transform=transform_pet)\n",
    "test_dataset=MRIPETDataset(test_cases,test_labels,modality=modality,transform=transform_mri,target_transform=transform_pet_test)\n",
    "\n",
    "\n",
    "train_dataloader=torch.utils.data.DataLoader(train_dataset,batch_size=BS,shuffle=True)\n",
    "test_dataloader=torch.utils.data.DataLoader(test_dataset,batch_size=BS,shuffle=True)\n",
    "\n",
    "\n"
   ]
  },
  {
   "cell_type": "code",
   "execution_count": 12,
   "id": "47651094-af32-4dac-97e5-0cca75255ab4",
   "metadata": {},
   "outputs": [],
   "source": [
    "x,y=next(iter(train_dataset))\n",
    "\n",
    "x.shape,x.max(),x.min()\n",
    "in_shape=x.shape"
   ]
  },
  {
   "cell_type": "code",
   "execution_count": 13,
   "id": "a0f291f3-b91f-4a1d-a095-52e6e3deeee6",
   "metadata": {},
   "outputs": [],
   "source": [
    "channels=[32,64,128]\n",
    "kernel_size=3\n",
    "\n",
    "config[\"channels\"]=channels\n",
    "config[\"kernel_size\"]=kernel_size\n",
    "\n",
    "\n",
    "model=BayesianClassifier(in_shape=in_shape,classes=len(set(label_dict.values())),channels=channels,strides=[2,2,2],kernel_size=kernel_size,depthwise=True)"
   ]
  },
  {
   "cell_type": "code",
   "execution_count": 14,
   "id": "1c207af3-d9aa-4336-995a-45f3204ebb73",
   "metadata": {},
   "outputs": [
    {
     "name": "stdout",
     "output_type": "stream",
     "text": [
      "----------------------------------------------------------------\n",
      "        Layer (type)               Output Shape         Param #\n",
      "================================================================\n",
      "            Conv3d-1        [-1, 8, 24, 24, 24]             224\n",
      "            Conv3d-2        [-1, 1, 24, 24, 24]              28\n",
      "            Conv3d-3        [-1, 8, 24, 24, 24]              16\n",
      "    DepthSepConv3d-4        [-1, 8, 24, 24, 24]               0\n",
      "    InstanceNorm3d-5        [-1, 8, 24, 24, 24]               0\n",
      "             PReLU-6        [-1, 8, 24, 24, 24]               1\n",
      "            Conv3d-7        [-1, 8, 24, 24, 24]             224\n",
      "            Conv3d-8        [-1, 8, 24, 24, 24]              72\n",
      "    DepthSepConv3d-9        [-1, 8, 24, 24, 24]               0\n",
      "   InstanceNorm3d-10        [-1, 8, 24, 24, 24]               0\n",
      "            PReLU-11        [-1, 8, 24, 24, 24]               1\n",
      "     ResidualUnit-12        [-1, 8, 24, 24, 24]               0\n",
      "           Conv3d-13       [-1, 16, 12, 12, 12]           3,472\n",
      "           Conv3d-14        [-1, 8, 12, 12, 12]             224\n",
      "           Conv3d-15       [-1, 16, 12, 12, 12]             144\n",
      "   DepthSepConv3d-16       [-1, 16, 12, 12, 12]               0\n",
      "   InstanceNorm3d-17       [-1, 16, 12, 12, 12]               0\n",
      "            PReLU-18       [-1, 16, 12, 12, 12]               1\n",
      "           Conv3d-19       [-1, 16, 12, 12, 12]             448\n",
      "           Conv3d-20       [-1, 16, 12, 12, 12]             272\n",
      "   DepthSepConv3d-21       [-1, 16, 12, 12, 12]               0\n",
      "   InstanceNorm3d-22       [-1, 16, 12, 12, 12]               0\n",
      "            PReLU-23       [-1, 16, 12, 12, 12]               1\n",
      "     ResidualUnit-24       [-1, 16, 12, 12, 12]               0\n",
      "           Conv3d-25          [-1, 32, 6, 6, 6]          13,856\n",
      "           Conv3d-26          [-1, 16, 6, 6, 6]             448\n",
      "           Conv3d-27          [-1, 32, 6, 6, 6]             544\n",
      "   DepthSepConv3d-28          [-1, 32, 6, 6, 6]               0\n",
      "   InstanceNorm3d-29          [-1, 32, 6, 6, 6]               0\n",
      "            PReLU-30          [-1, 32, 6, 6, 6]               1\n",
      "           Conv3d-31          [-1, 32, 6, 6, 6]             896\n",
      "           Conv3d-32          [-1, 32, 6, 6, 6]           1,056\n",
      "   DepthSepConv3d-33          [-1, 32, 6, 6, 6]               0\n",
      "     ResidualUnit-34          [-1, 32, 6, 6, 6]               0\n",
      "          Flatten-35                 [-1, 6912]               0\n",
      "      BayesLinear-36                    [-1, 3]               0\n",
      "          Reshape-37                    [-1, 3]               0\n",
      "================================================================\n",
      "Total params: 21,929\n",
      "Trainable params: 21,929\n",
      "Non-trainable params: 0\n",
      "----------------------------------------------------------------\n",
      "Input size (MB): 0.42\n",
      "Forward/backward pass size (MB): 12.37\n",
      "Params size (MB): 0.08\n",
      "Estimated Total Size (MB): 12.87\n",
      "----------------------------------------------------------------\n"
     ]
    }
   ],
   "source": [
    "summary(model,in_shape,device=\"cpu\")"
   ]
  },
  {
   "cell_type": "code",
   "execution_count": 15,
   "id": "33588994-0baf-43c1-993a-3f86f212fcd3",
   "metadata": {},
   "outputs": [
    {
     "data": {
      "text/plain": [
       "BayesianClassifier(\n",
       "  (net): Sequential(\n",
       "    (layer_0): ResidualUnit(\n",
       "      (conv): Sequential(\n",
       "        (unit0): Convolution(\n",
       "          (conv): DepthSepConv3d(\n",
       "            (depthwise_separable_conv): Sequential(\n",
       "              (0): Conv3d(1, 1, kernel_size=(3, 3, 3), stride=(2, 2, 2), padding=(1, 1, 1))\n",
       "              (1): Conv3d(1, 8, kernel_size=(1, 1, 1), stride=(1, 1, 1))\n",
       "            )\n",
       "          )\n",
       "          (adn): ADN(\n",
       "            (N): InstanceNorm3d(8, eps=1e-05, momentum=0.1, affine=False, track_running_stats=False)\n",
       "            (A): PReLU(num_parameters=1)\n",
       "          )\n",
       "        )\n",
       "        (unit1): Convolution(\n",
       "          (conv): DepthSepConv3d(\n",
       "            (depthwise_separable_conv): Sequential(\n",
       "              (0): Conv3d(8, 8, kernel_size=(3, 3, 3), stride=(1, 1, 1), padding=(1, 1, 1), groups=8)\n",
       "              (1): Conv3d(8, 8, kernel_size=(1, 1, 1), stride=(1, 1, 1))\n",
       "            )\n",
       "          )\n",
       "          (adn): ADN(\n",
       "            (N): InstanceNorm3d(8, eps=1e-05, momentum=0.1, affine=False, track_running_stats=False)\n",
       "            (A): PReLU(num_parameters=1)\n",
       "          )\n",
       "        )\n",
       "      )\n",
       "      (residual): Conv3d(1, 8, kernel_size=(3, 3, 3), stride=(2, 2, 2), padding=(1, 1, 1))\n",
       "    )\n",
       "    (layer_1): ResidualUnit(\n",
       "      (conv): Sequential(\n",
       "        (unit0): Convolution(\n",
       "          (conv): DepthSepConv3d(\n",
       "            (depthwise_separable_conv): Sequential(\n",
       "              (0): Conv3d(8, 8, kernel_size=(3, 3, 3), stride=(2, 2, 2), padding=(1, 1, 1), groups=8)\n",
       "              (1): Conv3d(8, 16, kernel_size=(1, 1, 1), stride=(1, 1, 1))\n",
       "            )\n",
       "          )\n",
       "          (adn): ADN(\n",
       "            (N): InstanceNorm3d(16, eps=1e-05, momentum=0.1, affine=False, track_running_stats=False)\n",
       "            (A): PReLU(num_parameters=1)\n",
       "          )\n",
       "        )\n",
       "        (unit1): Convolution(\n",
       "          (conv): DepthSepConv3d(\n",
       "            (depthwise_separable_conv): Sequential(\n",
       "              (0): Conv3d(16, 16, kernel_size=(3, 3, 3), stride=(1, 1, 1), padding=(1, 1, 1), groups=16)\n",
       "              (1): Conv3d(16, 16, kernel_size=(1, 1, 1), stride=(1, 1, 1))\n",
       "            )\n",
       "          )\n",
       "          (adn): ADN(\n",
       "            (N): InstanceNorm3d(16, eps=1e-05, momentum=0.1, affine=False, track_running_stats=False)\n",
       "            (A): PReLU(num_parameters=1)\n",
       "          )\n",
       "        )\n",
       "      )\n",
       "      (residual): Conv3d(8, 16, kernel_size=(3, 3, 3), stride=(2, 2, 2), padding=(1, 1, 1))\n",
       "    )\n",
       "    (layer_2): ResidualUnit(\n",
       "      (conv): Sequential(\n",
       "        (unit0): Convolution(\n",
       "          (conv): DepthSepConv3d(\n",
       "            (depthwise_separable_conv): Sequential(\n",
       "              (0): Conv3d(16, 16, kernel_size=(3, 3, 3), stride=(2, 2, 2), padding=(1, 1, 1), groups=16)\n",
       "              (1): Conv3d(16, 32, kernel_size=(1, 1, 1), stride=(1, 1, 1))\n",
       "            )\n",
       "          )\n",
       "          (adn): ADN(\n",
       "            (N): InstanceNorm3d(32, eps=1e-05, momentum=0.1, affine=False, track_running_stats=False)\n",
       "            (A): PReLU(num_parameters=1)\n",
       "          )\n",
       "        )\n",
       "        (unit1): Convolution(\n",
       "          (conv): DepthSepConv3d(\n",
       "            (depthwise_separable_conv): Sequential(\n",
       "              (0): Conv3d(32, 32, kernel_size=(3, 3, 3), stride=(1, 1, 1), padding=(1, 1, 1), groups=32)\n",
       "              (1): Conv3d(32, 32, kernel_size=(1, 1, 1), stride=(1, 1, 1))\n",
       "            )\n",
       "          )\n",
       "        )\n",
       "      )\n",
       "      (residual): Conv3d(16, 32, kernel_size=(3, 3, 3), stride=(2, 2, 2), padding=(1, 1, 1))\n",
       "    )\n",
       "  )\n",
       "  (reshape): Reshape()\n",
       "  (final): Sequential(\n",
       "    (0): Flatten(start_dim=1, end_dim=-1)\n",
       "    (1): BayesLinear(prior_mu=0.0, prior_sigma=0.1, in_features=6912, out_features=3, bias=True)\n",
       "  )\n",
       ")"
      ]
     },
     "execution_count": 15,
     "metadata": {},
     "output_type": "execute_result"
    }
   ],
   "source": [
    "device=\"cuda:0\"\n",
    "\n",
    "model.to(device)"
   ]
  },
  {
   "cell_type": "code",
   "execution_count": 18,
   "id": "1a770cc3-3055-4ab1-bd13-15d2b331bab1",
   "metadata": {},
   "outputs": [],
   "source": [
    "criterion=nn.CrossEntropyLoss(weight=torch.Tensor(class_weights).to(device))\n",
    "optim=torch.optim.Adam(model.parameters(),lr=3e-4,weight_decay=1e-3)\n",
    "\n",
    "kl_loss = bnn.BKLLoss(reduction='mean', last_layer_only=False)\n",
    "kl_weight = 0.1"
   ]
  },
  {
   "cell_type": "code",
   "execution_count": null,
   "id": "04f0285d-572f-48ba-bc4d-13fd641e232d",
   "metadata": {},
   "outputs": [],
   "source": []
  },
  {
   "cell_type": "code",
   "execution_count": 19,
   "id": "c6c1da06-04fd-4ada-a400-6af34f2ff969",
   "metadata": {},
   "outputs": [
    {
     "data": {
      "text/html": [
       "Finishing last run (ID:4svmlu11) before initializing another..."
      ],
      "text/plain": [
       "<IPython.core.display.HTML object>"
      ]
     },
     "metadata": {},
     "output_type": "display_data"
    },
    {
     "data": {
      "text/html": [
       "Waiting for W&B process to finish... <strong style=\"color:green\">(success).</strong>"
      ],
      "text/plain": [
       "<IPython.core.display.HTML object>"
      ]
     },
     "metadata": {},
     "output_type": "display_data"
    },
    {
     "data": {
      "application/vnd.jupyter.widget-view+json": {
       "model_id": "",
       "version_major": 2,
       "version_minor": 0
      },
      "text/plain": [
       "VBox(children=(Label(value='0.000 MB of 0.000 MB uploaded (0.000 MB deduped)\\r'), FloatProgress(value=1.0, max…"
      ]
     },
     "metadata": {},
     "output_type": "display_data"
    },
    {
     "data": {
      "text/html": [
       "Synced <strong style=\"color:#cdcd00\">generous-pyramid-15</strong>: <a href=\"https://wandb.ai/torvergatafmri/MRI2PET/runs/4svmlu11\" target=\"_blank\">https://wandb.ai/torvergatafmri/MRI2PET/runs/4svmlu11</a><br/>Synced 5 W&B file(s), 0 media file(s), 0 artifact file(s) and 0 other file(s)"
      ],
      "text/plain": [
       "<IPython.core.display.HTML object>"
      ]
     },
     "metadata": {},
     "output_type": "display_data"
    },
    {
     "data": {
      "text/html": [
       "Find logs at: <code>./wandb/run-20220814_173358-4svmlu11/logs</code>"
      ],
      "text/plain": [
       "<IPython.core.display.HTML object>"
      ]
     },
     "metadata": {},
     "output_type": "display_data"
    },
    {
     "data": {
      "text/html": [
       "Successfully finished last run (ID:4svmlu11). Initializing new run:<br/>"
      ],
      "text/plain": [
       "<IPython.core.display.HTML object>"
      ]
     },
     "metadata": {},
     "output_type": "display_data"
    },
    {
     "data": {
      "text/html": [
       "wandb version 0.13.1 is available!  To upgrade, please run:\n",
       " $ pip install wandb --upgrade"
      ],
      "text/plain": [
       "<IPython.core.display.HTML object>"
      ]
     },
     "metadata": {},
     "output_type": "display_data"
    },
    {
     "data": {
      "text/html": [
       "Tracking run with wandb version 0.12.16"
      ],
      "text/plain": [
       "<IPython.core.display.HTML object>"
      ]
     },
     "metadata": {},
     "output_type": "display_data"
    },
    {
     "data": {
      "text/html": [
       "Run data is saved locally in <code>/home/matteo/MRI2PET/wandb/run-20220814_173403-2qw2winz</code>"
      ],
      "text/plain": [
       "<IPython.core.display.HTML object>"
      ]
     },
     "metadata": {},
     "output_type": "display_data"
    },
    {
     "data": {
      "text/html": [
       "Syncing run <strong><a href=\"https://wandb.ai/torvergatafmri/MRI2PET/runs/2qw2winz\" target=\"_blank\">scarlet-frost-16</a></strong> to <a href=\"https://wandb.ai/torvergatafmri/MRI2PET\" target=\"_blank\">Weights & Biases</a> (<a href=\"https://wandb.me/run\" target=\"_blank\">docs</a>)<br/>"
      ],
      "text/plain": [
       "<IPython.core.display.HTML object>"
      ]
     },
     "metadata": {},
     "output_type": "display_data"
    },
    {
     "data": {
      "text/html": [
       "<button onClick=\"this.nextSibling.style.display='block';this.style.display='none';\">Display W&B run</button><iframe src=\"https://wandb.ai/torvergatafmri/MRI2PET/runs/2qw2winz?jupyter=true\" style=\"border:none;width:100%;height:420px;display:none;\"></iframe>"
      ],
      "text/plain": [
       "<wandb.sdk.wandb_run.Run at 0x7fbd9d64c670>"
      ]
     },
     "execution_count": 19,
     "metadata": {},
     "output_type": "execute_result"
    }
   ],
   "source": [
    "wandb.init(project=\"MRI2PET\",config=config)"
   ]
  },
  {
   "cell_type": "code",
   "execution_count": 20,
   "id": "a19f4960-1907-4243-b743-f3b2424364e5",
   "metadata": {},
   "outputs": [
    {
     "name": "stderr",
     "output_type": "stream",
     "text": [
      "epoch 0 loss: 0.803244411945343: 100%|█████████████████████████████████| 11/11 [00:26<00:00,  2.40s/it]\n",
      "val epoch 0 val loss: 4.714984893798828: 100%|███████████████████████████| 3/3 [00:06<00:00,  2.15s/it]\n",
      "epoch 1 loss: 5.040626525878906: 100%|█████████████████████████████████| 11/11 [00:25<00:00,  2.29s/it]\n",
      "val epoch 1 val loss: 3.308483123779297: 100%|███████████████████████████| 3/3 [00:06<00:00,  2.11s/it]\n",
      "epoch 2 loss: 3.186206102371216: 100%|█████████████████████████████████| 11/11 [00:25<00:00,  2.30s/it]\n",
      "val epoch 2 val loss: 8.193093299865723: 100%|███████████████████████████| 3/3 [00:06<00:00,  2.11s/it]\n",
      "epoch 3 loss: 0.02745322324335575: 100%|███████████████████████████████| 11/11 [00:25<00:00,  2.30s/it]\n",
      "val epoch 3 val loss: 2.959501266479492: 100%|███████████████████████████| 3/3 [00:06<00:00,  2.11s/it]\n",
      "epoch 4 loss: 1.2528403997421265: 100%|████████████████████████████████| 11/11 [00:25<00:00,  2.29s/it]\n",
      "val epoch 4 val loss: 4.005277633666992: 100%|███████████████████████████| 3/3 [00:06<00:00,  2.12s/it]\n",
      "epoch 5 loss: 3.1648030281066895: 100%|████████████████████████████████| 11/11 [00:25<00:00,  2.30s/it]\n",
      "val epoch 5 val loss: 1.7581861019134521: 100%|██████████████████████████| 3/3 [00:06<00:00,  2.11s/it]\n",
      "epoch 6 loss: 0.520052969455719: 100%|█████████████████████████████████| 11/11 [00:25<00:00,  2.31s/it]\n",
      "val epoch 6 val loss: 2.3343188762664795: 100%|██████████████████████████| 3/3 [00:06<00:00,  2.15s/it]\n",
      "epoch 7 loss: 4.751847743988037: 100%|█████████████████████████████████| 11/11 [00:25<00:00,  2.29s/it]\n",
      "val epoch 7 val loss: 4.115786552429199: 100%|███████████████████████████| 3/3 [00:06<00:00,  2.15s/it]\n",
      "epoch 8 loss: 0.17421238124370575: 100%|███████████████████████████████| 11/11 [00:25<00:00,  2.30s/it]\n",
      "val epoch 8 val loss: 3.759401559829712: 100%|███████████████████████████| 3/3 [00:06<00:00,  2.17s/it]\n",
      "epoch 9 loss: 3.3630998134613037: 100%|████████████████████████████████| 11/11 [00:25<00:00,  2.34s/it]\n",
      "val epoch 9 val loss: 3.5321245193481445: 100%|██████████████████████████| 3/3 [00:06<00:00,  2.12s/it]\n",
      "epoch 10 loss: 1.0476781129837036: 100%|███████████████████████████████| 11/11 [00:25<00:00,  2.31s/it]\n",
      "val epoch 10 val loss: 3.337303876876831: 100%|██████████████████████████| 3/3 [00:06<00:00,  2.11s/it]\n",
      "epoch 11 loss: 1.2870503664016724: 100%|███████████████████████████████| 11/11 [00:25<00:00,  2.31s/it]\n",
      "val epoch 11 val loss: 1.9945554733276367: 100%|█████████████████████████| 3/3 [00:06<00:00,  2.11s/it]\n",
      "epoch 12 loss: 4.267717361450195: 100%|████████████████████████████████| 11/11 [00:25<00:00,  2.29s/it]\n",
      "val epoch 12 val loss: 3.191631555557251: 100%|██████████████████████████| 3/3 [00:06<00:00,  2.11s/it]\n",
      "epoch 13 loss: 5.356544494628906: 100%|████████████████████████████████| 11/11 [00:25<00:00,  2.30s/it]\n",
      "val epoch 13 val loss: 3.1381993293762207: 100%|█████████████████████████| 3/3 [00:06<00:00,  2.11s/it]\n",
      "epoch 14 loss: 2.703218936920166: 100%|████████████████████████████████| 11/11 [00:25<00:00,  2.30s/it]\n",
      "val epoch 14 val loss: 5.322569370269775: 100%|██████████████████████████| 3/3 [00:06<00:00,  2.12s/it]\n",
      "epoch 15 loss: 4.073311805725098: 100%|████████████████████████████████| 11/11 [00:25<00:00,  2.29s/it]\n",
      "val epoch 15 val loss: 4.876754283905029: 100%|██████████████████████████| 3/3 [00:06<00:00,  2.15s/it]\n",
      "epoch 16 loss: 1.5133029222488403: 100%|███████████████████████████████| 11/11 [00:25<00:00,  2.29s/it]\n",
      "val epoch 16 val loss: 2.0133209228515625: 100%|█████████████████████████| 3/3 [00:06<00:00,  2.11s/it]\n",
      "epoch 17 loss: 0.6648193597793579: 100%|███████████████████████████████| 11/11 [00:25<00:00,  2.30s/it]\n",
      "val epoch 17 val loss: 2.958547830581665: 100%|██████████████████████████| 3/3 [00:06<00:00,  2.11s/it]\n",
      "epoch 18 loss: 0.9397062659263611: 100%|███████████████████████████████| 11/11 [00:25<00:00,  2.30s/it]\n",
      "val epoch 18 val loss: 0.9693583846092224: 100%|█████████████████████████| 3/3 [00:06<00:00,  2.11s/it]\n",
      "epoch 19 loss: 1.3413894176483154: 100%|███████████████████████████████| 11/11 [00:25<00:00,  2.29s/it]\n",
      "val epoch 19 val loss: 2.3168272972106934: 100%|█████████████████████████| 3/3 [00:06<00:00,  2.15s/it]\n",
      "epoch 20 loss: 2.35263729095459: 100%|█████████████████████████████████| 11/11 [00:25<00:00,  2.29s/it]\n",
      "val epoch 20 val loss: 3.846428871154785: 100%|██████████████████████████| 3/3 [00:06<00:00,  2.11s/it]\n",
      "epoch 21 loss: 2.282883644104004: 100%|████████████████████████████████| 11/11 [00:25<00:00,  2.30s/it]\n",
      "val epoch 21 val loss: 3.1563162803649902: 100%|█████████████████████████| 3/3 [00:06<00:00,  2.11s/it]\n",
      "epoch 22 loss: 1.9915810823440552: 100%|███████████████████████████████| 11/11 [00:25<00:00,  2.30s/it]\n",
      "val epoch 22 val loss: 2.3661468029022217: 100%|█████████████████████████| 3/3 [00:06<00:00,  2.11s/it]\n",
      "epoch 23 loss: 0.09987705945968628: 100%|██████████████████████████████| 11/11 [00:25<00:00,  2.29s/it]\n",
      "val epoch 23 val loss: 3.0851900577545166: 100%|█████████████████████████| 3/3 [00:06<00:00,  2.11s/it]\n",
      "epoch 24 loss: 0.4714511036872864: 100%|███████████████████████████████| 11/11 [00:25<00:00,  2.31s/it]\n",
      "val epoch 24 val loss: 1.6953020095825195: 100%|█████████████████████████| 3/3 [00:06<00:00,  2.24s/it]\n",
      "epoch 25 loss: 5.733323097229004: 100%|████████████████████████████████| 11/11 [00:25<00:00,  2.30s/it]\n",
      "val epoch 25 val loss: 6.495363712310791: 100%|██████████████████████████| 3/3 [00:06<00:00,  2.12s/it]\n",
      "epoch 26 loss: 2.3067164421081543: 100%|███████████████████████████████| 11/11 [00:25<00:00,  2.29s/it]\n",
      "val epoch 26 val loss: 3.443209171295166: 100%|██████████████████████████| 3/3 [00:06<00:00,  2.16s/it]\n",
      "epoch 27 loss: 2.37320876121521: 100%|█████████████████████████████████| 11/11 [00:25<00:00,  2.28s/it]\n",
      "val epoch 27 val loss: 2.667280912399292: 100%|██████████████████████████| 3/3 [00:06<00:00,  2.16s/it]\n",
      "epoch 28 loss: 1.2290847301483154: 100%|███████████████████████████████| 11/11 [00:25<00:00,  2.29s/it]\n",
      "val epoch 28 val loss: 4.8692240715026855: 100%|█████████████████████████| 3/3 [00:06<00:00,  2.11s/it]\n",
      "epoch 29 loss: 0.9323874115943909: 100%|███████████████████████████████| 11/11 [00:25<00:00,  2.30s/it]\n",
      "val epoch 29 val loss: 2.2775778770446777: 100%|█████████████████████████| 3/3 [00:06<00:00,  2.11s/it]\n",
      "epoch 30 loss: 1.9078196287155151: 100%|███████████████████████████████| 11/11 [00:25<00:00,  2.30s/it]\n",
      "val epoch 30 val loss: 1.4733678102493286: 100%|█████████████████████████| 3/3 [00:06<00:00,  2.12s/it]\n",
      "epoch 31 loss: 3.5690062046051025:  73%|███████████████████████▎        | 8/11 [00:21<00:08,  2.75s/it]\n"
     ]
    },
    {
     "ename": "KeyboardInterrupt",
     "evalue": "",
     "output_type": "error",
     "traceback": [
      "\u001b[0;31m---------------------------------------------------------------------------\u001b[0m",
      "\u001b[0;31mKeyboardInterrupt\u001b[0m                         Traceback (most recent call last)",
      "Input \u001b[0;32mIn [20]\u001b[0m, in \u001b[0;36m<cell line: 9>\u001b[0;34m()\u001b[0m\n\u001b[1;32m     17\u001b[0m y_list\u001b[38;5;241m=\u001b[39m[]\n\u001b[1;32m     18\u001b[0m y_pred_list\u001b[38;5;241m=\u001b[39m[]\n\u001b[0;32m---> 19\u001b[0m \u001b[38;5;28;01mfor\u001b[39;00m x,y \u001b[38;5;129;01min\u001b[39;00m pbar:\n\u001b[1;32m     21\u001b[0m     optim\u001b[38;5;241m.\u001b[39mzero_grad()\n\u001b[1;32m     22\u001b[0m     x,y\u001b[38;5;241m=\u001b[39mx\u001b[38;5;241m.\u001b[39mto(device),y\u001b[38;5;241m.\u001b[39mto(device)\n",
      "File \u001b[0;32m~/anaconda3/envs/pytorch/lib/python3.9/site-packages/tqdm/std.py:1195\u001b[0m, in \u001b[0;36mtqdm.__iter__\u001b[0;34m(self)\u001b[0m\n\u001b[1;32m   1192\u001b[0m time \u001b[38;5;241m=\u001b[39m \u001b[38;5;28mself\u001b[39m\u001b[38;5;241m.\u001b[39m_time\n\u001b[1;32m   1194\u001b[0m \u001b[38;5;28;01mtry\u001b[39;00m:\n\u001b[0;32m-> 1195\u001b[0m     \u001b[38;5;28;01mfor\u001b[39;00m obj \u001b[38;5;129;01min\u001b[39;00m iterable:\n\u001b[1;32m   1196\u001b[0m         \u001b[38;5;28;01myield\u001b[39;00m obj\n\u001b[1;32m   1197\u001b[0m         \u001b[38;5;66;03m# Update and possibly print the progressbar.\u001b[39;00m\n\u001b[1;32m   1198\u001b[0m         \u001b[38;5;66;03m# Note: does not call self.update(1) for speed optimisation.\u001b[39;00m\n",
      "File \u001b[0;32m~/anaconda3/envs/pytorch/lib/python3.9/site-packages/torch/utils/data/dataloader.py:530\u001b[0m, in \u001b[0;36m_BaseDataLoaderIter.__next__\u001b[0;34m(self)\u001b[0m\n\u001b[1;32m    528\u001b[0m \u001b[38;5;28;01mif\u001b[39;00m \u001b[38;5;28mself\u001b[39m\u001b[38;5;241m.\u001b[39m_sampler_iter \u001b[38;5;129;01mis\u001b[39;00m \u001b[38;5;28;01mNone\u001b[39;00m:\n\u001b[1;32m    529\u001b[0m     \u001b[38;5;28mself\u001b[39m\u001b[38;5;241m.\u001b[39m_reset()\n\u001b[0;32m--> 530\u001b[0m data \u001b[38;5;241m=\u001b[39m \u001b[38;5;28;43mself\u001b[39;49m\u001b[38;5;241;43m.\u001b[39;49m\u001b[43m_next_data\u001b[49m\u001b[43m(\u001b[49m\u001b[43m)\u001b[49m\n\u001b[1;32m    531\u001b[0m \u001b[38;5;28mself\u001b[39m\u001b[38;5;241m.\u001b[39m_num_yielded \u001b[38;5;241m+\u001b[39m\u001b[38;5;241m=\u001b[39m \u001b[38;5;241m1\u001b[39m\n\u001b[1;32m    532\u001b[0m \u001b[38;5;28;01mif\u001b[39;00m \u001b[38;5;28mself\u001b[39m\u001b[38;5;241m.\u001b[39m_dataset_kind \u001b[38;5;241m==\u001b[39m _DatasetKind\u001b[38;5;241m.\u001b[39mIterable \u001b[38;5;129;01mand\u001b[39;00m \\\n\u001b[1;32m    533\u001b[0m         \u001b[38;5;28mself\u001b[39m\u001b[38;5;241m.\u001b[39m_IterableDataset_len_called \u001b[38;5;129;01mis\u001b[39;00m \u001b[38;5;129;01mnot\u001b[39;00m \u001b[38;5;28;01mNone\u001b[39;00m \u001b[38;5;129;01mand\u001b[39;00m \\\n\u001b[1;32m    534\u001b[0m         \u001b[38;5;28mself\u001b[39m\u001b[38;5;241m.\u001b[39m_num_yielded \u001b[38;5;241m>\u001b[39m \u001b[38;5;28mself\u001b[39m\u001b[38;5;241m.\u001b[39m_IterableDataset_len_called:\n",
      "File \u001b[0;32m~/anaconda3/envs/pytorch/lib/python3.9/site-packages/torch/utils/data/dataloader.py:570\u001b[0m, in \u001b[0;36m_SingleProcessDataLoaderIter._next_data\u001b[0;34m(self)\u001b[0m\n\u001b[1;32m    568\u001b[0m \u001b[38;5;28;01mdef\u001b[39;00m \u001b[38;5;21m_next_data\u001b[39m(\u001b[38;5;28mself\u001b[39m):\n\u001b[1;32m    569\u001b[0m     index \u001b[38;5;241m=\u001b[39m \u001b[38;5;28mself\u001b[39m\u001b[38;5;241m.\u001b[39m_next_index()  \u001b[38;5;66;03m# may raise StopIteration\u001b[39;00m\n\u001b[0;32m--> 570\u001b[0m     data \u001b[38;5;241m=\u001b[39m \u001b[38;5;28;43mself\u001b[39;49m\u001b[38;5;241;43m.\u001b[39;49m\u001b[43m_dataset_fetcher\u001b[49m\u001b[38;5;241;43m.\u001b[39;49m\u001b[43mfetch\u001b[49m\u001b[43m(\u001b[49m\u001b[43mindex\u001b[49m\u001b[43m)\u001b[49m  \u001b[38;5;66;03m# may raise StopIteration\u001b[39;00m\n\u001b[1;32m    571\u001b[0m     \u001b[38;5;28;01mif\u001b[39;00m \u001b[38;5;28mself\u001b[39m\u001b[38;5;241m.\u001b[39m_pin_memory:\n\u001b[1;32m    572\u001b[0m         data \u001b[38;5;241m=\u001b[39m _utils\u001b[38;5;241m.\u001b[39mpin_memory\u001b[38;5;241m.\u001b[39mpin_memory(data)\n",
      "File \u001b[0;32m~/anaconda3/envs/pytorch/lib/python3.9/site-packages/torch/utils/data/_utils/fetch.py:49\u001b[0m, in \u001b[0;36m_MapDatasetFetcher.fetch\u001b[0;34m(self, possibly_batched_index)\u001b[0m\n\u001b[1;32m     47\u001b[0m \u001b[38;5;28;01mdef\u001b[39;00m \u001b[38;5;21mfetch\u001b[39m(\u001b[38;5;28mself\u001b[39m, possibly_batched_index):\n\u001b[1;32m     48\u001b[0m     \u001b[38;5;28;01mif\u001b[39;00m \u001b[38;5;28mself\u001b[39m\u001b[38;5;241m.\u001b[39mauto_collation:\n\u001b[0;32m---> 49\u001b[0m         data \u001b[38;5;241m=\u001b[39m [\u001b[38;5;28mself\u001b[39m\u001b[38;5;241m.\u001b[39mdataset[idx] \u001b[38;5;28;01mfor\u001b[39;00m idx \u001b[38;5;129;01min\u001b[39;00m possibly_batched_index]\n\u001b[1;32m     50\u001b[0m     \u001b[38;5;28;01melse\u001b[39;00m:\n\u001b[1;32m     51\u001b[0m         data \u001b[38;5;241m=\u001b[39m \u001b[38;5;28mself\u001b[39m\u001b[38;5;241m.\u001b[39mdataset[possibly_batched_index]\n",
      "File \u001b[0;32m~/anaconda3/envs/pytorch/lib/python3.9/site-packages/torch/utils/data/_utils/fetch.py:49\u001b[0m, in \u001b[0;36m<listcomp>\u001b[0;34m(.0)\u001b[0m\n\u001b[1;32m     47\u001b[0m \u001b[38;5;28;01mdef\u001b[39;00m \u001b[38;5;21mfetch\u001b[39m(\u001b[38;5;28mself\u001b[39m, possibly_batched_index):\n\u001b[1;32m     48\u001b[0m     \u001b[38;5;28;01mif\u001b[39;00m \u001b[38;5;28mself\u001b[39m\u001b[38;5;241m.\u001b[39mauto_collation:\n\u001b[0;32m---> 49\u001b[0m         data \u001b[38;5;241m=\u001b[39m [\u001b[38;5;28;43mself\u001b[39;49m\u001b[38;5;241;43m.\u001b[39;49m\u001b[43mdataset\u001b[49m\u001b[43m[\u001b[49m\u001b[43midx\u001b[49m\u001b[43m]\u001b[49m \u001b[38;5;28;01mfor\u001b[39;00m idx \u001b[38;5;129;01min\u001b[39;00m possibly_batched_index]\n\u001b[1;32m     50\u001b[0m     \u001b[38;5;28;01melse\u001b[39;00m:\n\u001b[1;32m     51\u001b[0m         data \u001b[38;5;241m=\u001b[39m \u001b[38;5;28mself\u001b[39m\u001b[38;5;241m.\u001b[39mdataset[possibly_batched_index]\n",
      "Input \u001b[0;32mIn [8]\u001b[0m, in \u001b[0;36mMRIPETDataset.__getitem__\u001b[0;34m(self, idx)\u001b[0m\n\u001b[1;32m     38\u001b[0m label\u001b[38;5;241m=\u001b[39m\u001b[38;5;28mself\u001b[39m\u001b[38;5;241m.\u001b[39mlabels[idx]\n\u001b[1;32m     40\u001b[0m \u001b[38;5;28;01mif\u001b[39;00m \u001b[38;5;28mself\u001b[39m\u001b[38;5;241m.\u001b[39mmodality\u001b[38;5;241m==\u001b[39m\u001b[38;5;124m\"\u001b[39m\u001b[38;5;124mPET\u001b[39m\u001b[38;5;124m\"\u001b[39m:\n\u001b[0;32m---> 41\u001b[0m     pet\u001b[38;5;241m=\u001b[39m\u001b[43mpet\u001b[49m\u001b[38;5;241;43m.\u001b[39;49m\u001b[43mdataobj\u001b[49m\u001b[43m[\u001b[49m\u001b[43mdim_0_start\u001b[49m\u001b[43m:\u001b[49m\u001b[43mdim_0_end\u001b[49m\u001b[43m,\u001b[49m\u001b[43mdim_1_start\u001b[49m\u001b[43m:\u001b[49m\u001b[43mdim_1_end\u001b[49m\u001b[43m,\u001b[49m\u001b[43mdim_2_start\u001b[49m\u001b[43m:\u001b[49m\u001b[43mdim_2_end\u001b[49m\u001b[43m]\u001b[49m\n\u001b[1;32m     42\u001b[0m     pet\u001b[38;5;241m=\u001b[39mtorch\u001b[38;5;241m.\u001b[39mTensor(np\u001b[38;5;241m.\u001b[39mexpand_dims(pet,\u001b[38;5;241m0\u001b[39m))\n\u001b[1;32m     43\u001b[0m     \u001b[38;5;28;01mif\u001b[39;00m \u001b[38;5;28mself\u001b[39m\u001b[38;5;241m.\u001b[39mtarget_transform:\n",
      "File \u001b[0;32m~/anaconda3/envs/pytorch/lib/python3.9/site-packages/nibabel/arrayproxy.py:397\u001b[0m, in \u001b[0;36mArrayProxy.__getitem__\u001b[0;34m(self, slicer)\u001b[0m\n\u001b[1;32m    396\u001b[0m \u001b[38;5;28;01mdef\u001b[39;00m \u001b[38;5;21m__getitem__\u001b[39m(\u001b[38;5;28mself\u001b[39m, slicer):\n\u001b[0;32m--> 397\u001b[0m     \u001b[38;5;28;01mreturn\u001b[39;00m \u001b[38;5;28;43mself\u001b[39;49m\u001b[38;5;241;43m.\u001b[39;49m\u001b[43m_get_scaled\u001b[49m\u001b[43m(\u001b[49m\u001b[43mdtype\u001b[49m\u001b[38;5;241;43m=\u001b[39;49m\u001b[38;5;28;43;01mNone\u001b[39;49;00m\u001b[43m,\u001b[49m\u001b[43m \u001b[49m\u001b[43mslicer\u001b[49m\u001b[38;5;241;43m=\u001b[39;49m\u001b[43mslicer\u001b[49m\u001b[43m)\u001b[49m\n",
      "File \u001b[0;32m~/anaconda3/envs/pytorch/lib/python3.9/site-packages/nibabel/arrayproxy.py:358\u001b[0m, in \u001b[0;36mArrayProxy._get_scaled\u001b[0;34m(self, dtype, slicer)\u001b[0m\n\u001b[1;32m    356\u001b[0m     scl_inter \u001b[38;5;241m=\u001b[39m scl_inter\u001b[38;5;241m.\u001b[39mastype(use_dtype)\n\u001b[1;32m    357\u001b[0m \u001b[38;5;66;03m# Read array and upcast as necessary for big slopes, intercepts\u001b[39;00m\n\u001b[0;32m--> 358\u001b[0m scaled \u001b[38;5;241m=\u001b[39m apply_read_scaling(\u001b[38;5;28;43mself\u001b[39;49m\u001b[38;5;241;43m.\u001b[39;49m\u001b[43m_get_unscaled\u001b[49m\u001b[43m(\u001b[49m\u001b[43mslicer\u001b[49m\u001b[38;5;241;43m=\u001b[39;49m\u001b[43mslicer\u001b[49m\u001b[43m)\u001b[49m, scl_slope, scl_inter)\n\u001b[1;32m    359\u001b[0m \u001b[38;5;28;01mif\u001b[39;00m dtype \u001b[38;5;129;01mis\u001b[39;00m \u001b[38;5;129;01mnot\u001b[39;00m \u001b[38;5;28;01mNone\u001b[39;00m:\n\u001b[1;32m    360\u001b[0m     scaled \u001b[38;5;241m=\u001b[39m scaled\u001b[38;5;241m.\u001b[39mastype(np\u001b[38;5;241m.\u001b[39mpromote_types(scaled\u001b[38;5;241m.\u001b[39mdtype, dtype), copy\u001b[38;5;241m=\u001b[39m\u001b[38;5;28;01mFalse\u001b[39;00m)\n",
      "File \u001b[0;32m~/anaconda3/envs/pytorch/lib/python3.9/site-packages/nibabel/arrayproxy.py:339\u001b[0m, in \u001b[0;36mArrayProxy._get_unscaled\u001b[0;34m(self, slicer)\u001b[0m\n\u001b[1;32m    332\u001b[0m         \u001b[38;5;28;01mreturn\u001b[39;00m array_from_file(\u001b[38;5;28mself\u001b[39m\u001b[38;5;241m.\u001b[39m_shape,\n\u001b[1;32m    333\u001b[0m                                \u001b[38;5;28mself\u001b[39m\u001b[38;5;241m.\u001b[39m_dtype,\n\u001b[1;32m    334\u001b[0m                                fileobj,\n\u001b[1;32m    335\u001b[0m                                offset\u001b[38;5;241m=\u001b[39m\u001b[38;5;28mself\u001b[39m\u001b[38;5;241m.\u001b[39m_offset,\n\u001b[1;32m    336\u001b[0m                                order\u001b[38;5;241m=\u001b[39m\u001b[38;5;28mself\u001b[39m\u001b[38;5;241m.\u001b[39morder,\n\u001b[1;32m    337\u001b[0m                                mmap\u001b[38;5;241m=\u001b[39m\u001b[38;5;28mself\u001b[39m\u001b[38;5;241m.\u001b[39m_mmap)\n\u001b[1;32m    338\u001b[0m \u001b[38;5;28;01mwith\u001b[39;00m \u001b[38;5;28mself\u001b[39m\u001b[38;5;241m.\u001b[39m_get_fileobj() \u001b[38;5;28;01mas\u001b[39;00m fileobj:\n\u001b[0;32m--> 339\u001b[0m     \u001b[38;5;28;01mreturn\u001b[39;00m \u001b[43mfileslice\u001b[49m\u001b[43m(\u001b[49m\u001b[43mfileobj\u001b[49m\u001b[43m,\u001b[49m\n\u001b[1;32m    340\u001b[0m \u001b[43m                     \u001b[49m\u001b[43mslicer\u001b[49m\u001b[43m,\u001b[49m\n\u001b[1;32m    341\u001b[0m \u001b[43m                     \u001b[49m\u001b[38;5;28;43mself\u001b[39;49m\u001b[38;5;241;43m.\u001b[39;49m\u001b[43m_shape\u001b[49m\u001b[43m,\u001b[49m\n\u001b[1;32m    342\u001b[0m \u001b[43m                     \u001b[49m\u001b[38;5;28;43mself\u001b[39;49m\u001b[38;5;241;43m.\u001b[39;49m\u001b[43m_dtype\u001b[49m\u001b[43m,\u001b[49m\n\u001b[1;32m    343\u001b[0m \u001b[43m                     \u001b[49m\u001b[38;5;28;43mself\u001b[39;49m\u001b[38;5;241;43m.\u001b[39;49m\u001b[43m_offset\u001b[49m\u001b[43m,\u001b[49m\n\u001b[1;32m    344\u001b[0m \u001b[43m                     \u001b[49m\u001b[43morder\u001b[49m\u001b[38;5;241;43m=\u001b[39;49m\u001b[38;5;28;43mself\u001b[39;49m\u001b[38;5;241;43m.\u001b[39;49m\u001b[43morder\u001b[49m\u001b[43m,\u001b[49m\n\u001b[1;32m    345\u001b[0m \u001b[43m                     \u001b[49m\u001b[43mlock\u001b[49m\u001b[38;5;241;43m=\u001b[39;49m\u001b[38;5;28;43mself\u001b[39;49m\u001b[38;5;241;43m.\u001b[39;49m\u001b[43m_lock\u001b[49m\u001b[43m)\u001b[49m\n",
      "File \u001b[0;32m~/anaconda3/envs/pytorch/lib/python3.9/site-packages/nibabel/fileslice.py:790\u001b[0m, in \u001b[0;36mfileslice\u001b[0;34m(fileobj, sliceobj, shape, dtype, offset, order, heuristic, lock)\u001b[0m\n\u001b[1;32m    787\u001b[0m segments, sliced_shape, post_slicers \u001b[38;5;241m=\u001b[39m calc_slicedefs(\n\u001b[1;32m    788\u001b[0m     sliceobj, shape, itemsize, offset, order)\n\u001b[1;32m    789\u001b[0m n_bytes \u001b[38;5;241m=\u001b[39m reduce(operator\u001b[38;5;241m.\u001b[39mmul, sliced_shape, \u001b[38;5;241m1\u001b[39m) \u001b[38;5;241m*\u001b[39m itemsize\n\u001b[0;32m--> 790\u001b[0m arr_data \u001b[38;5;241m=\u001b[39m \u001b[43mread_segments\u001b[49m\u001b[43m(\u001b[49m\u001b[43mfileobj\u001b[49m\u001b[43m,\u001b[49m\u001b[43m \u001b[49m\u001b[43msegments\u001b[49m\u001b[43m,\u001b[49m\u001b[43m \u001b[49m\u001b[43mn_bytes\u001b[49m\u001b[43m,\u001b[49m\u001b[43m \u001b[49m\u001b[43mlock\u001b[49m\u001b[43m)\u001b[49m\n\u001b[1;32m    791\u001b[0m sliced \u001b[38;5;241m=\u001b[39m np\u001b[38;5;241m.\u001b[39mndarray(sliced_shape, dtype, buffer\u001b[38;5;241m=\u001b[39marr_data, order\u001b[38;5;241m=\u001b[39morder)\n\u001b[1;32m    792\u001b[0m \u001b[38;5;28;01mreturn\u001b[39;00m sliced[post_slicers]\n",
      "File \u001b[0;32m~/anaconda3/envs/pytorch/lib/python3.9/site-packages/nibabel/fileslice.py:687\u001b[0m, in \u001b[0;36mread_segments\u001b[0;34m(fileobj, segments, n_bytes, lock)\u001b[0m\n\u001b[1;32m    685\u001b[0m \u001b[38;5;28;01mfor\u001b[39;00m offset, length \u001b[38;5;129;01min\u001b[39;00m segments:\n\u001b[1;32m    686\u001b[0m     \u001b[38;5;28;01mwith\u001b[39;00m lock:\n\u001b[0;32m--> 687\u001b[0m         \u001b[43mfileobj\u001b[49m\u001b[38;5;241;43m.\u001b[39;49m\u001b[43mseek\u001b[49m\u001b[43m(\u001b[49m\u001b[43moffset\u001b[49m\u001b[43m)\u001b[49m\n\u001b[1;32m    688\u001b[0m         \u001b[38;5;28mbytes\u001b[39m\u001b[38;5;241m.\u001b[39mwrite(fileobj\u001b[38;5;241m.\u001b[39mread(length))\n\u001b[1;32m    689\u001b[0m \u001b[38;5;28;01mif\u001b[39;00m \u001b[38;5;28mbytes\u001b[39m\u001b[38;5;241m.\u001b[39mtell() \u001b[38;5;241m!=\u001b[39m n_bytes:\n",
      "File \u001b[0;32m~/anaconda3/envs/pytorch/lib/python3.9/site-packages/nibabel/openers.py:168\u001b[0m, in \u001b[0;36mOpener.seek\u001b[0;34m(self, *args, **kwargs)\u001b[0m\n\u001b[1;32m    167\u001b[0m \u001b[38;5;28;01mdef\u001b[39;00m \u001b[38;5;21mseek\u001b[39m(\u001b[38;5;28mself\u001b[39m, \u001b[38;5;241m*\u001b[39margs, \u001b[38;5;241m*\u001b[39m\u001b[38;5;241m*\u001b[39mkwargs):\n\u001b[0;32m--> 168\u001b[0m     \u001b[38;5;28;01mreturn\u001b[39;00m \u001b[38;5;28;43mself\u001b[39;49m\u001b[38;5;241;43m.\u001b[39;49m\u001b[43mfobj\u001b[49m\u001b[38;5;241;43m.\u001b[39;49m\u001b[43mseek\u001b[49m\u001b[43m(\u001b[49m\u001b[38;5;241;43m*\u001b[39;49m\u001b[43margs\u001b[49m\u001b[43m,\u001b[49m\u001b[43m \u001b[49m\u001b[38;5;241;43m*\u001b[39;49m\u001b[38;5;241;43m*\u001b[39;49m\u001b[43mkwargs\u001b[49m\u001b[43m)\u001b[49m\n",
      "File \u001b[0;32m~/anaconda3/envs/pytorch/lib/python3.9/gzip.py:392\u001b[0m, in \u001b[0;36mGzipFile.seek\u001b[0;34m(self, offset, whence)\u001b[0m\n\u001b[1;32m    390\u001b[0m \u001b[38;5;28;01melif\u001b[39;00m \u001b[38;5;28mself\u001b[39m\u001b[38;5;241m.\u001b[39mmode \u001b[38;5;241m==\u001b[39m READ:\n\u001b[1;32m    391\u001b[0m     \u001b[38;5;28mself\u001b[39m\u001b[38;5;241m.\u001b[39m_check_not_closed()\n\u001b[0;32m--> 392\u001b[0m     \u001b[38;5;28;01mreturn\u001b[39;00m \u001b[38;5;28;43mself\u001b[39;49m\u001b[38;5;241;43m.\u001b[39;49m\u001b[43m_buffer\u001b[49m\u001b[38;5;241;43m.\u001b[39;49m\u001b[43mseek\u001b[49m\u001b[43m(\u001b[49m\u001b[43moffset\u001b[49m\u001b[43m,\u001b[49m\u001b[43m \u001b[49m\u001b[43mwhence\u001b[49m\u001b[43m)\u001b[49m\n\u001b[1;32m    394\u001b[0m \u001b[38;5;28;01mreturn\u001b[39;00m \u001b[38;5;28mself\u001b[39m\u001b[38;5;241m.\u001b[39moffset\n",
      "File \u001b[0;32m~/anaconda3/envs/pytorch/lib/python3.9/_compression.py:143\u001b[0m, in \u001b[0;36mDecompressReader.seek\u001b[0;34m(self, offset, whence)\u001b[0m\n\u001b[1;32m    141\u001b[0m \u001b[38;5;66;03m# Read and discard data until we reach the desired position.\u001b[39;00m\n\u001b[1;32m    142\u001b[0m \u001b[38;5;28;01mwhile\u001b[39;00m offset \u001b[38;5;241m>\u001b[39m \u001b[38;5;241m0\u001b[39m:\n\u001b[0;32m--> 143\u001b[0m     data \u001b[38;5;241m=\u001b[39m \u001b[38;5;28;43mself\u001b[39;49m\u001b[38;5;241;43m.\u001b[39;49m\u001b[43mread\u001b[49m\u001b[43m(\u001b[49m\u001b[38;5;28;43mmin\u001b[39;49m\u001b[43m(\u001b[49m\u001b[43mio\u001b[49m\u001b[38;5;241;43m.\u001b[39;49m\u001b[43mDEFAULT_BUFFER_SIZE\u001b[49m\u001b[43m,\u001b[49m\u001b[43m \u001b[49m\u001b[43moffset\u001b[49m\u001b[43m)\u001b[49m\u001b[43m)\u001b[49m\n\u001b[1;32m    144\u001b[0m     \u001b[38;5;28;01mif\u001b[39;00m \u001b[38;5;129;01mnot\u001b[39;00m data:\n\u001b[1;32m    145\u001b[0m         \u001b[38;5;28;01mbreak\u001b[39;00m\n",
      "File \u001b[0;32m~/anaconda3/envs/pytorch/lib/python3.9/gzip.py:495\u001b[0m, in \u001b[0;36m_GzipReader.read\u001b[0;34m(self, size)\u001b[0m\n\u001b[1;32m    492\u001b[0m \u001b[38;5;66;03m# Read a chunk of data from the file\u001b[39;00m\n\u001b[1;32m    493\u001b[0m buf \u001b[38;5;241m=\u001b[39m \u001b[38;5;28mself\u001b[39m\u001b[38;5;241m.\u001b[39m_fp\u001b[38;5;241m.\u001b[39mread(io\u001b[38;5;241m.\u001b[39mDEFAULT_BUFFER_SIZE)\n\u001b[0;32m--> 495\u001b[0m uncompress \u001b[38;5;241m=\u001b[39m \u001b[38;5;28;43mself\u001b[39;49m\u001b[38;5;241;43m.\u001b[39;49m\u001b[43m_decompressor\u001b[49m\u001b[38;5;241;43m.\u001b[39;49m\u001b[43mdecompress\u001b[49m\u001b[43m(\u001b[49m\u001b[43mbuf\u001b[49m\u001b[43m,\u001b[49m\u001b[43m \u001b[49m\u001b[43msize\u001b[49m\u001b[43m)\u001b[49m\n\u001b[1;32m    496\u001b[0m \u001b[38;5;28;01mif\u001b[39;00m \u001b[38;5;28mself\u001b[39m\u001b[38;5;241m.\u001b[39m_decompressor\u001b[38;5;241m.\u001b[39munconsumed_tail \u001b[38;5;241m!=\u001b[39m \u001b[38;5;124mb\u001b[39m\u001b[38;5;124m\"\u001b[39m\u001b[38;5;124m\"\u001b[39m:\n\u001b[1;32m    497\u001b[0m     \u001b[38;5;28mself\u001b[39m\u001b[38;5;241m.\u001b[39m_fp\u001b[38;5;241m.\u001b[39mprepend(\u001b[38;5;28mself\u001b[39m\u001b[38;5;241m.\u001b[39m_decompressor\u001b[38;5;241m.\u001b[39munconsumed_tail)\n",
      "\u001b[0;31mKeyboardInterrupt\u001b[0m: "
     ]
    }
   ],
   "source": [
    "EPOCHS=50\n",
    "save_model=1\n",
    "outdir=\"models/class_pet\"\n",
    "os.makedirs(outdir,exist_ok=True)\n",
    "\n",
    "loss_history=[]\n",
    "val_loss_history=[]\n",
    "# pbar=tqdm.tqdm(range(EPOCHS))\n",
    "for epoch in range(EPOCHS):\n",
    "    \n",
    "    ## TRAINING\n",
    "    loss_tmp=[]\n",
    "    val_loss_tmp=[]\n",
    "    \n",
    "    pbar=tqdm.tqdm(train_dataloader)\n",
    "    epoch_acc=[]\n",
    "    y_list=[]\n",
    "    y_pred_list=[]\n",
    "    for x,y in pbar:\n",
    "        \n",
    "        optim.zero_grad()\n",
    "        x,y=x.to(device),y.to(device)\n",
    "        y_pred=model(x)\n",
    "\n",
    "        y_pred_list.append(y_pred.detach().cpu())\n",
    "        y_list.append(y.cpu())\n",
    "        \n",
    "        \n",
    "        #compute bayesian_loss\n",
    "        loss=criterion(y_pred,y)\n",
    "        kl = kl_loss(model)\n",
    "        \n",
    "        loss = loss + kl_weight*kl\n",
    "        \n",
    "        loss.backward()\n",
    "        optim.step()\n",
    "        \n",
    "        pbar.set_description(f\"epoch {epoch} loss: {loss.item()}\")\n",
    "        loss_tmp.append(loss.item())\n",
    "        wandb.log({\"loss\":loss.item()})\n",
    "        \n",
    "    loss_history.append(np.mean(loss_tmp))\n",
    "    y_list=torch.cat(y_list,0)\n",
    "    y_pred_list=torch.cat(y_pred_list,0)\n",
    "    \n",
    "    acc=(y_list==y_pred_list.argmax(dim=1)).sum()/len(y_list)\n",
    "    wandb.log({\"train_acc\": acc})\n",
    "    epoch_acc.append(acc.numpy())\n",
    "    \n",
    "        \n",
    "    ## VALIDATION\n",
    "    \n",
    "    with torch.no_grad():\n",
    "        pbar_val=tqdm.tqdm(test_dataloader)\n",
    "        y_list=[]\n",
    "        y_pred_list=[]\n",
    "        \n",
    "        for x,y in pbar_val:\n",
    "        \n",
    "        \n",
    "            x,y=x.to(device),y.to(device)\n",
    "            y_pred=model(x)\n",
    "\n",
    "\n",
    "            #compute masked_loss\n",
    "            loss=criterion(y_pred,y)\n",
    "            kl = kl_loss(model)\n",
    "        \n",
    "            loss = loss + kl_weight*kl\n",
    "            \n",
    "            y_pred_list.append(y_pred.detach().cpu())\n",
    "            y_list.append(y.cpu())\n",
    "\n",
    "            pbar_val.set_description(f\"val epoch {epoch} val loss: {loss.item()}\")\n",
    "            val_loss_tmp.append(loss.item())\n",
    "            wandb.log({\"val_loss\":loss.item()})\n",
    "            \n",
    "        y_list=torch.cat(y_list,0)\n",
    "        y_pred_list=torch.cat(y_pred_list,0)\n",
    "        val_loss_history.append(np.mean(val_loss_tmp))\n",
    "        acc=(y_list==y_pred_list.argmax(dim=1)).sum()/len(y_list)\n",
    "        wandb.log({\"val_acc\": acc})\n",
    "    \n",
    "    \n",
    "    \n",
    "    if epoch%save_model==0:\n",
    "        ## SAVE MODEL\n",
    "        torch.save(model.state_dict(),f\"{outdir}_{epoch}.pt\")\n",
    "    \n",
    "    "
   ]
  },
  {
   "cell_type": "code",
   "execution_count": 21,
   "id": "c7f213d8-9109-4d25-b86d-202b6a0fe95b",
   "metadata": {},
   "outputs": [
    {
     "data": {
      "text/plain": [
       "<matplotlib.legend.Legend at 0x7fbd77b87fd0>"
      ]
     },
     "execution_count": 21,
     "metadata": {},
     "output_type": "execute_result"
    },
    {
     "data": {
      "image/png": "[encoded data removed]",
      "text/plain": [
       "<Figure size 432x288 with 1 Axes>"
      ]
     },
     "metadata": {
      "needs_background": "light"
     },
     "output_type": "display_data"
    }
   ],
   "source": [
    "plt.plot(loss_history,label=\"loss\")\n",
    "plt.plot(val_loss_history,label=\"val_loss\")\n",
    "plt.legend()"
   ]
  },
  {
   "cell_type": "code",
   "execution_count": 22,
   "id": "dae6a4a4-1081-42c4-9977-4b03d37f711e",
   "metadata": {},
   "outputs": [
    {
     "ename": "AttributeError",
     "evalue": "'list' object has no attribute 'numpy'",
     "output_type": "error",
     "traceback": [
      "\u001b[0;31m---------------------------------------------------------------------------\u001b[0m",
      "\u001b[0;31mAttributeError\u001b[0m                            Traceback (most recent call last)",
      "Input \u001b[0;32mIn [22]\u001b[0m, in \u001b[0;36m<cell line: 1>\u001b[0;34m()\u001b[0m\n\u001b[0;32m----> 1\u001b[0m \u001b[38;5;28mprint\u001b[39m(classification_report(\u001b[43my_list\u001b[49m\u001b[38;5;241;43m.\u001b[39;49m\u001b[43mnumpy\u001b[49m(),y_pred_list\u001b[38;5;241m.\u001b[39margmax(dim\u001b[38;5;241m=\u001b[39m\u001b[38;5;241m1\u001b[39m)\u001b[38;5;241m.\u001b[39mnumpy()))\n",
      "\u001b[0;31mAttributeError\u001b[0m: 'list' object has no attribute 'numpy'"
     ]
    }
   ],
   "source": [
    "print(classification_report(y_list.numpy(),y_pred_list.argmax(dim=1).numpy()))\n"
   ]
  },
  {
   "cell_type": "markdown",
   "id": "44a04f97-76f9-4ae1-90ff-8d63b835e3b1",
   "metadata": {},
   "source": [
    "## Averaged Predictions"
   ]
  },
  {
   "cell_type": "code",
   "execution_count": 25,
   "id": "cdac372a-182c-473a-9c9a-a65d3ff80de8",
   "metadata": {},
   "outputs": [
    {
     "name": "stderr",
     "output_type": "stream",
     "text": [
      "100%|████████████████████████████████████████████████████████████████████| 3/3 [00:06<00:00,  2.26s/it]"
     ]
    },
    {
     "name": "stdout",
     "output_type": "stream",
     "text": [
      "ORIGINAL\n",
      "              precision    recall  f1-score   support\n",
      "\n",
      "         0.0       0.00      0.00      0.00         7\n",
      "         1.0       0.57      0.84      0.68        19\n",
      "         2.0       0.62      0.53      0.57        15\n",
      "\n",
      "    accuracy                           0.59        41\n",
      "   macro avg       0.40      0.46      0.42        41\n",
      "weighted avg       0.49      0.59      0.52        41\n",
      "\n"
     ]
    },
    {
     "name": "stderr",
     "output_type": "stream",
     "text": [
      "\n",
      "/home/matteo/anaconda3/envs/pytorch/lib/python3.9/site-packages/sklearn/metrics/_classification.py:1327: UndefinedMetricWarning: Precision and F-score are ill-defined and being set to 0.0 in labels with no predicted samples. Use `zero_division` parameter to control this behavior.\n",
      "  _warn_prf(average, modifier, msg_start, len(result))\n",
      "/home/matteo/anaconda3/envs/pytorch/lib/python3.9/site-packages/sklearn/metrics/_classification.py:1327: UndefinedMetricWarning: Precision and F-score are ill-defined and being set to 0.0 in labels with no predicted samples. Use `zero_division` parameter to control this behavior.\n",
      "  _warn_prf(average, modifier, msg_start, len(result))\n",
      "/home/matteo/anaconda3/envs/pytorch/lib/python3.9/site-packages/sklearn/metrics/_classification.py:1327: UndefinedMetricWarning: Precision and F-score are ill-defined and being set to 0.0 in labels with no predicted samples. Use `zero_division` parameter to control this behavior.\n",
      "  _warn_prf(average, modifier, msg_start, len(result))\n"
     ]
    }
   ],
   "source": [
    "y_pred_val=np.array([])\n",
    "y_pred_val_std=np.array([])\n",
    "\n",
    "\n",
    "y_val=np.array([])\n",
    "\n",
    "averages=100\n",
    "\n",
    "soft=nn.Softmax(dim=1)\n",
    "\n",
    "with torch.no_grad():\n",
    "    for x,y in tqdm.tqdm(test_dataloader):\n",
    "        \n",
    "        guess=[]\n",
    "        for i in range(averages):\n",
    "            x=x.to(device)\n",
    "            guess.append(soft(model(x)).cpu().numpy())\n",
    "        y_pred_val=np.append(y_pred_val,np.array(guess).mean(axis=0))\n",
    "        y_pred_val_std=np.append(y_pred_val_std,np.array(guess).std(axis=0))\n",
    "        \n",
    "        y_val=np.append(y_val,y)\n",
    "\n",
    "y_pred_val=y_pred_val.reshape((-1,3))\n",
    "y_pred_val_std=y_pred_val_std.reshape((-1,3))\n",
    "\n",
    "y_val=y_val.reshape((len(y_pred_val),-1))\n",
    "\n",
    "print(\"ORIGINAL\")\n",
    "print(classification_report(y_val.squeeze(),np.argmax(y_pred_val,-1)))\n",
    "\n"
   ]
  },
  {
   "cell_type": "code",
   "execution_count": 32,
   "id": "43a403d9-8f93-4640-ad98-56c490f4e495",
   "metadata": {},
   "outputs": [
    {
     "name": "stdout",
     "output_type": "stream",
     "text": [
      "COMPUTING TRUSTHWORTHY PREDICTIONS\n",
      "[INFO] The network is valid is 0.6829268292682927\n",
      "              precision    recall  f1-score   support\n",
      "\n",
      "         0.0       0.00      0.00      0.00         5\n",
      "         1.0       0.65      0.87      0.74        15\n",
      "         2.0       0.62      0.62      0.62         8\n",
      "\n",
      "    accuracy                           0.64        28\n",
      "   macro avg       0.42      0.50      0.46        28\n",
      "weighted avg       0.53      0.64      0.58        28\n",
      "\n"
     ]
    },
    {
     "name": "stderr",
     "output_type": "stream",
     "text": [
      "/home/matteo/anaconda3/envs/pytorch/lib/python3.9/site-packages/sklearn/metrics/_classification.py:1327: UndefinedMetricWarning: Precision and F-score are ill-defined and being set to 0.0 in labels with no predicted samples. Use `zero_division` parameter to control this behavior.\n",
      "  _warn_prf(average, modifier, msg_start, len(result))\n",
      "/home/matteo/anaconda3/envs/pytorch/lib/python3.9/site-packages/sklearn/metrics/_classification.py:1327: UndefinedMetricWarning: Precision and F-score are ill-defined and being set to 0.0 in labels with no predicted samples. Use `zero_division` parameter to control this behavior.\n",
      "  _warn_prf(average, modifier, msg_start, len(result))\n",
      "/home/matteo/anaconda3/envs/pytorch/lib/python3.9/site-packages/sklearn/metrics/_classification.py:1327: UndefinedMetricWarning: Precision and F-score are ill-defined and being set to 0.0 in labels with no predicted samples. Use `zero_division` parameter to control this behavior.\n",
      "  _warn_prf(average, modifier, msg_start, len(result))\n"
     ]
    }
   ],
   "source": [
    "keep_if_below=0.4\n",
    "\n",
    "print(\"COMPUTING TRUSTHWORTHY PREDICTIONS\")\n",
    "valid_pred=[]\n",
    "valid_true=[]\n",
    "for j in range(len(y_pred_val)):\n",
    "    idx=np.argmax(y_pred_val[j])\n",
    "    if y_pred_val_std[j][idx]<keep_if_below:\n",
    "        valid_pred.append(idx)\n",
    "        valid_true.append(y_val[j])\n",
    "print(f\"[INFO] The network is valid is {len(valid_pred)/len(y_pred_val)}\")\n",
    "print(classification_report(valid_true,valid_pred))\n",
    "        "
   ]
  },
  {
   "cell_type": "code",
   "execution_count": null,
   "id": "935ef430-0472-42d8-8008-790f284ff259",
   "metadata": {},
   "outputs": [],
   "source": [
    "y_pred_val_std"
   ]
  }
 ],
 "metadata": {
  "kernelspec": {
   "display_name": "pytorch",
   "language": "python",
   "name": "pytorch"
  },
  "language_info": {
   "codemirror_mode": {
    "name": "ipython",
    "version": 3
   },
   "file_extension": ".py",
   "mimetype": "text/x-python",
   "name": "python",
   "nbconvert_exporter": "python",
   "pygments_lexer": "ipython3",
   "version": "3.9.12"
  }
 },
 "nbformat": 4,
 "nbformat_minor": 5
}
