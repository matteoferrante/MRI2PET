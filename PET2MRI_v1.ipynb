{
 "cells": [
  {
   "cell_type": "markdown",
   "id": "6186743d-de52-4bd5-aed7-25abb00f8351",
   "metadata": {},
   "source": [
    "# The goal is to train a model able to convert T1 images to PBR PET images"
   ]
  },
  {
   "cell_type": "code",
   "execution_count": 1,
   "id": "3d4ed814-12fd-4fc7-b962-7df00aa11283",
   "metadata": {},
   "outputs": [
    {
     "name": "stdout",
     "output_type": "stream",
     "text": [
      "Requirement already satisfied: wandb in /home/matteo/anaconda3/envs/dreamfusion/lib/python3.10/site-packages (0.12.0)\n",
      "Requirement already satisfied: configparser>=3.8.1 in /home/matteo/anaconda3/envs/dreamfusion/lib/python3.10/site-packages (from wandb) (5.3.0)\n",
      "Requirement already satisfied: python-dateutil>=2.6.1 in /home/matteo/anaconda3/envs/dreamfusion/lib/python3.10/site-packages (from wandb) (2.8.2)\n",
      "Requirement already satisfied: protobuf>=3.12.0 in /home/matteo/anaconda3/envs/dreamfusion/lib/python3.10/site-packages (from wandb) (3.20.1)\n",
      "Requirement already satisfied: promise<3,>=2.0 in /home/matteo/anaconda3/envs/dreamfusion/lib/python3.10/site-packages (from wandb) (2.3)\n",
      "Requirement already satisfied: requests<3,>=2.0.0 in /home/matteo/anaconda3/envs/dreamfusion/lib/python3.10/site-packages (from wandb) (2.28.1)\n",
      "Requirement already satisfied: shortuuid>=0.5.0 in /home/matteo/anaconda3/envs/dreamfusion/lib/python3.10/site-packages (from wandb) (1.0.11)\n",
      "Requirement already satisfied: Click!=8.0.0,>=7.0 in /home/matteo/anaconda3/envs/dreamfusion/lib/python3.10/site-packages (from wandb) (8.1.3)\n",
      "Requirement already satisfied: GitPython>=1.0.0 in /home/matteo/anaconda3/envs/dreamfusion/lib/python3.10/site-packages (from wandb) (3.1.31)\n",
      "Requirement already satisfied: six>=1.13.0 in /home/matteo/anaconda3/envs/dreamfusion/lib/python3.10/site-packages (from wandb) (1.16.0)\n",
      "Requirement already satisfied: pathtools in /home/matteo/anaconda3/envs/dreamfusion/lib/python3.10/site-packages (from wandb) (0.1.2)\n",
      "Requirement already satisfied: PyYAML in /home/matteo/anaconda3/envs/dreamfusion/lib/python3.10/site-packages (from wandb) (6.0)\n",
      "Requirement already satisfied: docker-pycreds>=0.4.0 in /home/matteo/anaconda3/envs/dreamfusion/lib/python3.10/site-packages (from wandb) (0.4.0)\n",
      "Requirement already satisfied: subprocess32>=3.5.3 in /home/matteo/anaconda3/envs/dreamfusion/lib/python3.10/site-packages (from wandb) (3.5.4)\n",
      "Requirement already satisfied: psutil>=5.0.0 in /home/matteo/anaconda3/envs/dreamfusion/lib/python3.10/site-packages (from wandb) (5.9.4)\n",
      "Requirement already satisfied: sentry-sdk>=1.0.0 in /home/matteo/anaconda3/envs/dreamfusion/lib/python3.10/site-packages (from wandb) (1.24.0)\n",
      "Requirement already satisfied: gitdb<5,>=4.0.1 in /home/matteo/anaconda3/envs/dreamfusion/lib/python3.10/site-packages (from GitPython>=1.0.0->wandb) (4.0.10)\n",
      "Requirement already satisfied: idna<4,>=2.5 in /home/matteo/anaconda3/envs/dreamfusion/lib/python3.10/site-packages (from requests<3,>=2.0.0->wandb) (3.4)\n",
      "Requirement already satisfied: charset-normalizer<3,>=2 in /home/matteo/anaconda3/envs/dreamfusion/lib/python3.10/site-packages (from requests<3,>=2.0.0->wandb) (2.1.1)\n",
      "Requirement already satisfied: certifi>=2017.4.17 in /home/matteo/anaconda3/envs/dreamfusion/lib/python3.10/site-packages (from requests<3,>=2.0.0->wandb) (2022.6.15)\n",
      "Requirement already satisfied: urllib3<1.27,>=1.21.1 in /home/matteo/anaconda3/envs/dreamfusion/lib/python3.10/site-packages (from requests<3,>=2.0.0->wandb) (1.26.13)\n",
      "Requirement already satisfied: smmap<6,>=3.0.1 in /home/matteo/anaconda3/envs/dreamfusion/lib/python3.10/site-packages (from gitdb<5,>=4.0.1->GitPython>=1.0.0->wandb) (5.0.0)\n",
      "Note: you may need to restart the kernel to use updated packages.\n"
     ]
    }
   ],
   "source": [
    "%pip install wandb\n",
    "\n"
   ]
  },
  {
   "cell_type": "code",
   "execution_count": 2,
   "id": "be2f2ef2-9f75-4086-93c1-5be97a227123",
   "metadata": {},
   "outputs": [
    {
     "name": "stderr",
     "output_type": "stream",
     "text": [
      "/home/matteo/anaconda3/envs/dreamfusion/lib/python3.10/site-packages/tqdm/auto.py:22: TqdmWarning: IProgress not found. Please update jupyter and ipywidgets. See https://ipywidgets.readthedocs.io/en/stable/user_install.html\n",
      "  from .autonotebook import tqdm as notebook_tqdm\n"
     ]
    }
   ],
   "source": [
    "import numpy as np\n",
    "import torch\n",
    "import matplotlib.pyplot as plt\n",
    "import nibabel as nib\n",
    "import os\n",
    "import glob\n",
    "from os.path import join as opj\n",
    "from mpl_toolkits.axes_grid1 import ImageGrid\n",
    "from unet3D import *\n",
    "from torchsummary import summary\n",
    "import monai\n",
    "from monai.transforms import *\n",
    "from mpl_toolkits.axes_grid1 import ImageGrid\n",
    "import ssim\n",
    "import tqdm\n",
    "\n",
    "from sklearn.model_selection import train_test_split\n",
    "\n",
    "from torchvision.utils import make_grid\n",
    "from sklearn.model_selection import KFold"
   ]
  },
  {
   "cell_type": "code",
   "execution_count": 3,
   "id": "70e0fbc0-c0bd-4ca3-8e49-685afbe7bd4d",
   "metadata": {},
   "outputs": [
    {
     "name": "stdout",
     "output_type": "stream",
     "text": [
      "2023-05-30 16:24:47,258 - Failed to detect the name of this notebook, you can set it manually with the WANDB_NOTEBOOK_NAME environment variable to enable code saving.\n"
     ]
    },
    {
     "name": "stderr",
     "output_type": "stream",
     "text": [
      "\u001b[34m\u001b[1mwandb\u001b[0m: Currently logged in as: \u001b[33mmatteoferrante\u001b[0m (use `wandb login --relogin` to force relogin)\n"
     ]
    },
    {
     "data": {
      "text/plain": [
       "True"
      ]
     },
     "execution_count": 3,
     "metadata": {},
     "output_type": "execute_result"
    }
   ],
   "source": [
    "import wandb\n",
    "wandb.login()"
   ]
  },
  {
   "cell_type": "code",
   "execution_count": 4,
   "id": "fe262e6e-8805-48a7-8958-29fe7c63800a",
   "metadata": {},
   "outputs": [
    {
     "name": "stderr",
     "output_type": "stream",
     "text": [
      "\u001b[34m\u001b[1mwandb\u001b[0m: wandb version 0.15.3 is available!  To upgrade, please run:\n",
      "\u001b[34m\u001b[1mwandb\u001b[0m:  $ pip install wandb --upgrade\n"
     ]
    },
    {
     "data": {
      "text/html": [
       "\n",
       "                Tracking run with wandb version 0.12.0<br/>\n",
       "                Syncing run <strong style=\"color:#cdcd00\">happy-river-8</strong> to <a href=\"https://wandb.ai\" target=\"_blank\">Weights & Biases</a> <a href=\"https://docs.wandb.com/integrations/jupyter.html\" target=\"_blank\">(Documentation)</a>.<br/>\n",
       "                Project page: <a href=\"https://wandb.ai/matteoferrante/MRI2PET\" target=\"_blank\">https://wandb.ai/matteoferrante/MRI2PET</a><br/>\n",
       "                Run page: <a href=\"https://wandb.ai/matteoferrante/MRI2PET/runs/2v26js44\" target=\"_blank\">https://wandb.ai/matteoferrante/MRI2PET/runs/2v26js44</a><br/>\n",
       "                Run data is saved locally in <code>/home/matteo/MRI2PET/wandb/run-20230530_162447-2v26js44</code><br/><br/>\n",
       "            "
      ],
      "text/plain": [
       "<IPython.core.display.HTML object>"
      ]
     },
     "metadata": {},
     "output_type": "display_data"
    },
    {
     "data": {
      "text/html": [
       "<h1>Run(2v26js44)</h1><iframe src=\"https://wandb.ai/matteoferrante/MRI2PET/runs/2v26js44\" style=\"border:none;width:100%;height:400px\"></iframe>"
      ],
      "text/plain": [
       "<wandb.sdk.wandb_run.Run at 0x7f0e678c86d0>"
      ]
     },
     "execution_count": 4,
     "metadata": {},
     "output_type": "execute_result"
    }
   ],
   "source": [
    "mse_loss=nn.MSELoss()\n",
    "ssim_loss = ssim.SSIM3D(window_size = 11)\n",
    "bce_loss=nn.BCELoss()\n",
    "fold=3\n",
    "\n",
    "\n",
    "mse_weight=1.\n",
    "bce_weight=1.\n",
    "ssim_weight=0.\n",
    "\n",
    "config={}\n",
    "\n",
    "\n",
    "config[\"mse_weight\"]=mse_weight\n",
    "config[\"bce_weight\"]=bce_weight\n",
    "config[\"ssim_weight\"]=ssim_weight\n",
    "config[\"fold\"]=fold\n",
    "\n",
    "wandb.init(project=\"MRI2PET\",config=config)"
   ]
  },
  {
   "cell_type": "code",
   "execution_count": 5,
   "id": "c4917eda-d8bd-489b-9da7-4ab0e8b9145d",
   "metadata": {},
   "outputs": [],
   "source": [
    "base_path=\"/home/matteo/data/MRI-PET-AI/regressed_data\"\n",
    "\n",
    "cases=os.listdir(base_path)\n",
    "exclude=['Scripts','temp','SubjectList.txt','Bay_7_Reconstruction_Log.xlsx','PBRKOA_KOA003_010818']\n",
    "\n",
    "cases=[i for i in cases if i not in exclude]"
   ]
  },
  {
   "cell_type": "markdown",
   "id": "c15f91fd-06bb-4286-a285-0b05e93354fe",
   "metadata": {},
   "source": [
    "### labels\n",
    "HC -> 0\n",
    "\n",
    "CLB -> 1\n",
    "\n",
    "K0A -> 2"
   ]
  },
  {
   "cell_type": "code",
   "execution_count": 6,
   "id": "4665d10d-e4b6-41fb-921f-51605e8f2885",
   "metadata": {},
   "outputs": [],
   "source": [
    "label_dict={\"HC\":0, \"CLB\":1, \"KOA\":2}"
   ]
  },
  {
   "cell_type": "code",
   "execution_count": 7,
   "id": "122f641a-7744-4adf-a6a6-031c10e40c57",
   "metadata": {},
   "outputs": [],
   "source": [
    "labels=[]\n",
    "for c in cases:\n",
    "    cl=None\n",
    "    if \"HC\" in c:\n",
    "        cl=\"HC\"\n",
    "    elif \"CLB\" in c:\n",
    "        cl=\"CLB\"\n",
    "    elif \"KOA\" in c:\n",
    "        cl=\"KOA\"\n",
    "    if cl is not None:\n",
    "        labels.append(label_dict[cl])"
   ]
  },
  {
   "cell_type": "code",
   "execution_count": 8,
   "id": "237a4ed3-96cd-4d8e-a9bc-3b30aa740353",
   "metadata": {},
   "outputs": [],
   "source": [
    "cases=[os.path.join(base_path,i) for i in cases if i not in exclude]"
   ]
  },
  {
   "cell_type": "code",
   "execution_count": 9,
   "id": "c713003d-65f5-4659-9c0b-16a0ead89cc2",
   "metadata": {},
   "outputs": [
    {
     "data": {
      "text/plain": [
       "(203, 203)"
      ]
     },
     "execution_count": 9,
     "metadata": {},
     "output_type": "execute_result"
    }
   ],
   "source": [
    "len(labels),len(cases)"
   ]
  },
  {
   "cell_type": "code",
   "execution_count": 10,
   "id": "ac19c2bc-0fd7-4136-95d5-302b1ed54915",
   "metadata": {},
   "outputs": [
    {
     "data": {
      "text/plain": [
       "(array([28.,  0.,  0.,  0.,  0., 88.,  0.,  0.,  0., 87.]),\n",
       " array([0. , 0.2, 0.4, 0.6, 0.8, 1. , 1.2, 1.4, 1.6, 1.8, 2. ]),\n",
       " <BarContainer object of 10 artists>)"
      ]
     },
     "execution_count": 10,
     "metadata": {},
     "output_type": "execute_result"
    },
    {
     "data": {
      "image/png": "[encoded data removed]",
      "text/plain": [
       "<Figure size 432x288 with 1 Axes>"
      ]
     },
     "metadata": {
      "needs_background": "light"
     },
     "output_type": "display_data"
    }
   ],
   "source": [
    "plt.hist(labels)"
   ]
  },
  {
   "cell_type": "code",
   "execution_count": 11,
   "id": "49fcc867-651f-4657-86cd-a31ef84c98f6",
   "metadata": {},
   "outputs": [
    {
     "name": "stdout",
     "output_type": "stream",
     "text": [
      "[INFO] train cases: 163 test cases: 40\n"
     ]
    }
   ],
   "source": [
    "# train_cases,test_cases,train_labels,test_labels=train_test_split(cases,labels,test_size=0.15,random_state=42)\n",
    "# train_cases,val_cases,train_labels,val_labels=train_test_split(cases,labels,test_size=0.2)\n",
    "\n",
    "kf = KFold(n_splits=5, shuffle=True, random_state=42)  # Using KFold from scikit-learn\n",
    "\n",
    "fold_indices = list(kf.split(cases))  # Generate indices for splitting the data\n",
    "    \n",
    "train_indices, test_indices = fold_indices[fold]  # Select the fold indices\n",
    "\n",
    "train_cases=np.array(cases)[train_indices]\n",
    "test_cases=np.array(cases)[test_indices]\n",
    "train_labels=np.array(labels)[train_indices]\n",
    "test_labels=np.array(labels)[test_indices]\n",
    "\n",
    "\n",
    "print(f\"[INFO] train cases: {len(train_cases)} test cases: {len(test_cases)}\")"
   ]
  },
  {
   "cell_type": "code",
   "execution_count": 12,
   "id": "50768af2-87df-44fe-9586-623719a46b91",
   "metadata": {},
   "outputs": [
    {
     "data": {
      "text/plain": [
       "(array([ 2.,  0.,  0.,  0.,  0., 21.,  0.,  0.,  0., 17.]),\n",
       " array([0. , 0.2, 0.4, 0.6, 0.8, 1. , 1.2, 1.4, 1.6, 1.8, 2. ]),\n",
       " <BarContainer object of 10 artists>)"
      ]
     },
     "execution_count": 12,
     "metadata": {},
     "output_type": "execute_result"
    },
    {
     "data": {
      "image/png": "[encoded data removed]",
      "text/plain": [
       "<Figure size 576x288 with 2 Axes>"
      ]
     },
     "metadata": {
      "needs_background": "light"
     },
     "output_type": "display_data"
    }
   ],
   "source": [
    "fig,axs=plt.subplots(1,2,figsize=(8,4))\n",
    "\n",
    "axs[0].hist(train_labels)\n",
    "axs[1].hist(test_labels)\n"
   ]
  },
  {
   "cell_type": "markdown",
   "id": "91ad4436-8bb7-4b25-8af1-45e51d952bf4",
   "metadata": {},
   "source": [
    "## Load cases\n",
    "\n",
    "Image crop\n",
    "\n",
    "Normalization (In-sample) of T1 and PET\n",
    "\n",
    "\n",
    "\n",
    "\n"
   ]
  },
  {
   "cell_type": "code",
   "execution_count": 13,
   "id": "33b07be1-4d9e-413b-bc8e-52954d1c5099",
   "metadata": {},
   "outputs": [],
   "source": [
    "class MRIPETDataset(torch.utils.data.Dataset):\n",
    "    def __init__(self, paths, labels,roi=(96,96,96), transform=None, target_transform=None,out_mask=True):\n",
    "        self.paths = paths\n",
    "        self.labels=labels\n",
    "        self.transform = transform\n",
    "        self.target_transform = target_transform\n",
    "        self.roi=roi\n",
    "        self.out_mask=out_mask\n",
    "        \n",
    "    def __len__(self):\n",
    "        return len(self.paths)\n",
    "\n",
    "    def __getitem__(self, idx):\n",
    "        \n",
    "        images_path=glob.glob(opj(self.paths[idx],\"*.nii.gz\"))\n",
    "        t1_path=[i for i in images_path if \"T1\" in i][0]\n",
    "        pet_path=[i for i in images_path if \"_suv_\" in i][0]\n",
    "        \n",
    "        t1=nib.load(t1_path)\n",
    "        pet=nib.load(pet_path)\n",
    "        \n",
    "        assert t1.shape==pet.shape\n",
    "        half_shape=[s//2 for s in t1.shape]\n",
    "        half_roi=[s//2 for s in self.roi]\n",
    "        dim_0_start=half_shape[0]-half_roi[0]\n",
    "        dim_0_end=half_shape[0]+half_roi[0]\n",
    "\n",
    "        dim_1_start=half_shape[1]-half_roi[1]\n",
    "        dim_1_end=half_shape[1]+half_roi[1]\n",
    "\n",
    "        dim_2_start=half_shape[2]-half_roi[2]\n",
    "        dim_2_end=half_shape[2]+half_roi[2]\n",
    "        try:\n",
    "            t1=t1.dataobj[dim_0_start:dim_0_end,dim_1_start:dim_1_end,dim_2_start:dim_2_end]\n",
    "        except Exception as e:\n",
    "            print(e)\n",
    "            print(f\"[ERROR] {pet_path} created problems.\")\n",
    "        try:\n",
    "            pet=pet.dataobj[dim_0_start:dim_0_end,dim_1_start:dim_1_end,dim_2_start:dim_2_end]\n",
    "        except Exception as e:\n",
    "            print(e)\n",
    "            print(f\"[ERROR] {pet_path} created problems.\")\n",
    "        \n",
    "        t1=torch.Tensor(np.expand_dims(t1,0))\n",
    "        pet=torch.Tensor(np.expand_dims(pet,0))\n",
    "        \n",
    "        label=self.labels[idx]\n",
    "        if self.transform:\n",
    "            t1 = self.transform(t1)\n",
    "        if self.target_transform:\n",
    "            pet = self.target_transform(pet)\n",
    "            \n",
    "        if self.out_mask:\n",
    "            mask=(t1>0)*1.\n",
    "            return t1,pet,mask,label\n",
    "        else:\n",
    "            return t1,pet, label"
   ]
  },
  {
   "cell_type": "code",
   "execution_count": 14,
   "id": "02027500-5852-421f-aa83-a97fc7f5bcbf",
   "metadata": {},
   "outputs": [],
   "source": [
    "BS=2\n",
    "config[\"BS\"]=BS\n",
    "\n",
    "transform_mri=Compose([ScaleIntensityRangePercentiles(1,99,0,1)])\n",
    "transform_pet=Compose([ScaleIntensity(0,1)])\n",
    "\n",
    "train_dataset=MRIPETDataset(train_cases,train_labels,transform=transform_mri,target_transform=transform_pet)\n",
    "test_dataset=MRIPETDataset(test_cases,test_labels,transform=transform_mri,target_transform=transform_pet)\n",
    "\n",
    "\n",
    "train_dataloader=torch.utils.data.DataLoader(train_dataset,batch_size=BS,shuffle=True)\n",
    "test_dataloader=torch.utils.data.DataLoader(test_dataset,batch_size=BS,shuffle=True)\n",
    "\n",
    "\n"
   ]
  },
  {
   "cell_type": "code",
   "execution_count": 15,
   "id": "d4020a05-2a5d-47ac-8c66-2bc2e4077290",
   "metadata": {},
   "outputs": [],
   "source": [
    "sanity_check_dataloaders=False\n",
    "if sanity_check_dataloaders:\n",
    "    for t,p,m,l in tqdm.tqdm(train_dataloader):\n",
    "        pass\n",
    "    for t,p,m,l in tqdm.tqdm(test_dataloader):\n",
    "        pass"
   ]
  },
  {
   "cell_type": "markdown",
   "id": "1280e781-8bdb-464b-a97a-bc532e6769a7",
   "metadata": {},
   "source": [
    "## Model"
   ]
  },
  {
   "cell_type": "code",
   "execution_count": 16,
   "id": "018ef5c2-c521-4856-a639-65ef69583b41",
   "metadata": {},
   "outputs": [
    {
     "name": "stdout",
     "output_type": "stream",
     "text": [
      "----------------------------------------------------------------\n",
      "        Layer (type)               Output Shape         Param #\n",
      "================================================================\n",
      "            Conv3d-1       [-1, 32, 96, 96, 96]             896\n",
      "         GroupNorm-2       [-1, 32, 96, 96, 96]              64\n",
      "             Swish-3       [-1, 32, 96, 96, 96]               0\n",
      "            Conv3d-4       [-1, 32, 96, 96, 96]             896\n",
      "            Conv3d-5       [-1, 32, 96, 96, 96]           1,056\n",
      "    DepthSepConv3d-6       [-1, 32, 96, 96, 96]               0\n",
      "         GroupNorm-7       [-1, 32, 96, 96, 96]              64\n",
      "             Swish-8       [-1, 32, 96, 96, 96]               0\n",
      "            Conv3d-9       [-1, 32, 96, 96, 96]             896\n",
      "           Conv3d-10       [-1, 32, 96, 96, 96]           1,056\n",
      "   DepthSepConv3d-11       [-1, 32, 96, 96, 96]               0\n",
      "         Identity-12       [-1, 32, 96, 96, 96]               0\n",
      "    ResidualBlock-13       [-1, 32, 96, 96, 96]               0\n",
      "         Identity-14       [-1, 32, 96, 96, 96]               0\n",
      "        DownBlock-15       [-1, 32, 96, 96, 96]               0\n",
      "           Conv3d-16       [-1, 32, 48, 48, 48]          27,680\n",
      "       Downsample-17       [-1, 32, 48, 48, 48]               0\n",
      "        GroupNorm-18       [-1, 32, 48, 48, 48]              64\n",
      "            Swish-19       [-1, 32, 48, 48, 48]               0\n",
      "           Conv3d-20       [-1, 32, 48, 48, 48]             896\n",
      "           Conv3d-21       [-1, 32, 48, 48, 48]           1,056\n",
      "   DepthSepConv3d-22       [-1, 32, 48, 48, 48]               0\n",
      "        GroupNorm-23       [-1, 32, 48, 48, 48]              64\n",
      "            Swish-24       [-1, 32, 48, 48, 48]               0\n",
      "           Conv3d-25       [-1, 32, 48, 48, 48]             896\n",
      "           Conv3d-26       [-1, 32, 48, 48, 48]           1,056\n",
      "   DepthSepConv3d-27       [-1, 32, 48, 48, 48]               0\n",
      "         Identity-28       [-1, 32, 48, 48, 48]               0\n",
      "    ResidualBlock-29       [-1, 32, 48, 48, 48]               0\n",
      "         Identity-30       [-1, 32, 48, 48, 48]               0\n",
      "        DownBlock-31       [-1, 32, 48, 48, 48]               0\n",
      "           Conv3d-32       [-1, 32, 24, 24, 24]          27,680\n",
      "       Downsample-33       [-1, 32, 24, 24, 24]               0\n",
      "        GroupNorm-34       [-1, 32, 24, 24, 24]              64\n",
      "            Swish-35       [-1, 32, 24, 24, 24]               0\n",
      "           Conv3d-36       [-1, 32, 24, 24, 24]             896\n",
      "           Conv3d-37       [-1, 32, 24, 24, 24]           1,056\n",
      "   DepthSepConv3d-38       [-1, 32, 24, 24, 24]               0\n",
      "        GroupNorm-39       [-1, 32, 24, 24, 24]              64\n",
      "            Swish-40       [-1, 32, 24, 24, 24]               0\n",
      "           Conv3d-41       [-1, 32, 24, 24, 24]             896\n",
      "           Conv3d-42       [-1, 32, 24, 24, 24]           1,056\n",
      "   DepthSepConv3d-43       [-1, 32, 24, 24, 24]               0\n",
      "         Identity-44       [-1, 32, 24, 24, 24]               0\n",
      "    ResidualBlock-45       [-1, 32, 24, 24, 24]               0\n",
      "         Identity-46       [-1, 32, 24, 24, 24]               0\n",
      "        DownBlock-47       [-1, 32, 24, 24, 24]               0\n",
      "           Conv3d-48       [-1, 32, 12, 12, 12]          27,680\n",
      "       Downsample-49       [-1, 32, 12, 12, 12]               0\n",
      "        GroupNorm-50       [-1, 32, 12, 12, 12]              64\n",
      "            Swish-51       [-1, 32, 12, 12, 12]               0\n",
      "           Conv3d-52       [-1, 32, 12, 12, 12]             896\n",
      "           Conv3d-53       [-1, 32, 12, 12, 12]           1,056\n",
      "   DepthSepConv3d-54       [-1, 32, 12, 12, 12]               0\n",
      "        GroupNorm-55       [-1, 32, 12, 12, 12]              64\n",
      "            Swish-56       [-1, 32, 12, 12, 12]               0\n",
      "           Conv3d-57       [-1, 32, 12, 12, 12]             896\n",
      "           Conv3d-58       [-1, 32, 12, 12, 12]           1,056\n",
      "   DepthSepConv3d-59       [-1, 32, 12, 12, 12]               0\n",
      "         Identity-60       [-1, 32, 12, 12, 12]               0\n",
      "    ResidualBlock-61       [-1, 32, 12, 12, 12]               0\n",
      "           Linear-62             [-1, 1728, 32]           1,056\n",
      "           Linear-63             [-1, 1728, 32]           1,056\n",
      "           Linear-64             [-1, 1728, 32]           1,056\n",
      "MultiheadAttention-65  [[-1, 1728, 32], [-1, 2, 2]]               0\n",
      "           Linear-66             [-1, 1728, 32]           1,056\n",
      "   AttentionBlock-67       [-1, 32, 12, 12, 12]               0\n",
      "        DownBlock-68       [-1, 32, 12, 12, 12]               0\n",
      "        GroupNorm-69       [-1, 32, 12, 12, 12]              64\n",
      "            Swish-70       [-1, 32, 12, 12, 12]               0\n",
      "           Conv3d-71       [-1, 32, 12, 12, 12]          27,680\n",
      "        GroupNorm-72       [-1, 32, 12, 12, 12]              64\n",
      "            Swish-73       [-1, 32, 12, 12, 12]               0\n",
      "           Conv3d-74       [-1, 32, 12, 12, 12]          27,680\n",
      "         Identity-75       [-1, 32, 12, 12, 12]               0\n",
      "    ResidualBlock-76       [-1, 32, 12, 12, 12]               0\n",
      "           Linear-77             [-1, 1728, 32]           1,056\n",
      "           Linear-78             [-1, 1728, 32]           1,056\n",
      "           Linear-79             [-1, 1728, 32]           1,056\n",
      "MultiheadAttention-80  [[-1, 1728, 32], [-1, 2, 2]]               0\n",
      "           Linear-81             [-1, 1728, 32]           1,056\n",
      "   AttentionBlock-82       [-1, 32, 12, 12, 12]               0\n",
      "        GroupNorm-83       [-1, 32, 12, 12, 12]              64\n",
      "            Swish-84       [-1, 32, 12, 12, 12]               0\n",
      "           Conv3d-85       [-1, 32, 12, 12, 12]          27,680\n",
      "        GroupNorm-86       [-1, 32, 12, 12, 12]              64\n",
      "            Swish-87       [-1, 32, 12, 12, 12]               0\n",
      "           Conv3d-88       [-1, 32, 12, 12, 12]          27,680\n",
      "         Identity-89       [-1, 32, 12, 12, 12]               0\n",
      "    ResidualBlock-90       [-1, 32, 12, 12, 12]               0\n",
      "      MiddleBlock-91       [-1, 32, 12, 12, 12]               0\n",
      "        GroupNorm-92       [-1, 64, 12, 12, 12]             128\n",
      "            Swish-93       [-1, 64, 12, 12, 12]               0\n",
      "           Conv3d-94       [-1, 64, 12, 12, 12]           1,792\n",
      "           Conv3d-95       [-1, 32, 12, 12, 12]           2,080\n",
      "   DepthSepConv3d-96       [-1, 32, 12, 12, 12]               0\n",
      "        GroupNorm-97       [-1, 32, 12, 12, 12]              64\n",
      "            Swish-98       [-1, 32, 12, 12, 12]               0\n",
      "           Conv3d-99       [-1, 32, 12, 12, 12]             896\n",
      "          Conv3d-100       [-1, 32, 12, 12, 12]           1,056\n",
      "  DepthSepConv3d-101       [-1, 32, 12, 12, 12]               0\n",
      "          Conv3d-102       [-1, 32, 12, 12, 12]           2,080\n",
      "   ResidualBlock-103       [-1, 32, 12, 12, 12]               0\n",
      "          Linear-104             [-1, 1728, 32]           1,056\n",
      "          Linear-105             [-1, 1728, 32]           1,056\n",
      "          Linear-106             [-1, 1728, 32]           1,056\n",
      "MultiheadAttention-107  [[-1, 1728, 32], [-1, 2, 2]]               0\n",
      "          Linear-108             [-1, 1728, 32]           1,056\n",
      "  AttentionBlock-109       [-1, 32, 12, 12, 12]               0\n",
      "         UpBlock-110       [-1, 32, 12, 12, 12]               0\n",
      "       GroupNorm-111       [-1, 64, 12, 12, 12]             128\n",
      "           Swish-112       [-1, 64, 12, 12, 12]               0\n",
      "          Conv3d-113       [-1, 64, 12, 12, 12]           1,792\n",
      "          Conv3d-114       [-1, 32, 12, 12, 12]           2,080\n",
      "  DepthSepConv3d-115       [-1, 32, 12, 12, 12]               0\n",
      "       GroupNorm-116       [-1, 32, 12, 12, 12]              64\n",
      "           Swish-117       [-1, 32, 12, 12, 12]               0\n",
      "          Conv3d-118       [-1, 32, 12, 12, 12]             896\n",
      "          Conv3d-119       [-1, 32, 12, 12, 12]           1,056\n",
      "  DepthSepConv3d-120       [-1, 32, 12, 12, 12]               0\n",
      "          Conv3d-121       [-1, 32, 12, 12, 12]           2,080\n",
      "   ResidualBlock-122       [-1, 32, 12, 12, 12]               0\n",
      "          Linear-123             [-1, 1728, 32]           1,056\n",
      "          Linear-124             [-1, 1728, 32]           1,056\n",
      "          Linear-125             [-1, 1728, 32]           1,056\n",
      "MultiheadAttention-126  [[-1, 1728, 32], [-1, 2, 2]]               0\n",
      "          Linear-127             [-1, 1728, 32]           1,056\n",
      "  AttentionBlock-128       [-1, 32, 12, 12, 12]               0\n",
      "         UpBlock-129       [-1, 32, 12, 12, 12]               0\n",
      " ConvTranspose3d-130       [-1, 32, 24, 24, 24]          65,568\n",
      "        Upsample-131       [-1, 32, 24, 24, 24]               0\n",
      "       GroupNorm-132       [-1, 64, 24, 24, 24]             128\n",
      "           Swish-133       [-1, 64, 24, 24, 24]               0\n",
      "          Conv3d-134       [-1, 64, 24, 24, 24]           1,792\n",
      "          Conv3d-135       [-1, 32, 24, 24, 24]           2,080\n",
      "  DepthSepConv3d-136       [-1, 32, 24, 24, 24]               0\n",
      "       GroupNorm-137       [-1, 32, 24, 24, 24]              64\n",
      "           Swish-138       [-1, 32, 24, 24, 24]               0\n",
      "          Conv3d-139       [-1, 32, 24, 24, 24]             896\n",
      "          Conv3d-140       [-1, 32, 24, 24, 24]           1,056\n",
      "  DepthSepConv3d-141       [-1, 32, 24, 24, 24]               0\n",
      "          Conv3d-142       [-1, 32, 24, 24, 24]           2,080\n",
      "   ResidualBlock-143       [-1, 32, 24, 24, 24]               0\n",
      "        Identity-144       [-1, 32, 24, 24, 24]               0\n",
      "         UpBlock-145       [-1, 32, 24, 24, 24]               0\n",
      "       GroupNorm-146       [-1, 64, 24, 24, 24]             128\n",
      "           Swish-147       [-1, 64, 24, 24, 24]               0\n",
      "          Conv3d-148       [-1, 64, 24, 24, 24]           1,792\n",
      "          Conv3d-149       [-1, 32, 24, 24, 24]           2,080\n",
      "  DepthSepConv3d-150       [-1, 32, 24, 24, 24]               0\n",
      "       GroupNorm-151       [-1, 32, 24, 24, 24]              64\n",
      "           Swish-152       [-1, 32, 24, 24, 24]               0\n",
      "          Conv3d-153       [-1, 32, 24, 24, 24]             896\n",
      "          Conv3d-154       [-1, 32, 24, 24, 24]           1,056\n",
      "  DepthSepConv3d-155       [-1, 32, 24, 24, 24]               0\n",
      "          Conv3d-156       [-1, 32, 24, 24, 24]           2,080\n",
      "   ResidualBlock-157       [-1, 32, 24, 24, 24]               0\n",
      "        Identity-158       [-1, 32, 24, 24, 24]               0\n",
      "         UpBlock-159       [-1, 32, 24, 24, 24]               0\n",
      " ConvTranspose3d-160       [-1, 32, 48, 48, 48]          65,568\n",
      "        Upsample-161       [-1, 32, 48, 48, 48]               0\n",
      "       GroupNorm-162       [-1, 64, 48, 48, 48]             128\n",
      "           Swish-163       [-1, 64, 48, 48, 48]               0\n",
      "          Conv3d-164       [-1, 64, 48, 48, 48]           1,792\n",
      "          Conv3d-165       [-1, 32, 48, 48, 48]           2,080\n",
      "  DepthSepConv3d-166       [-1, 32, 48, 48, 48]               0\n",
      "       GroupNorm-167       [-1, 32, 48, 48, 48]              64\n",
      "           Swish-168       [-1, 32, 48, 48, 48]               0\n",
      "          Conv3d-169       [-1, 32, 48, 48, 48]             896\n",
      "          Conv3d-170       [-1, 32, 48, 48, 48]           1,056\n",
      "  DepthSepConv3d-171       [-1, 32, 48, 48, 48]               0\n",
      "          Conv3d-172       [-1, 32, 48, 48, 48]           2,080\n",
      "   ResidualBlock-173       [-1, 32, 48, 48, 48]               0\n",
      "        Identity-174       [-1, 32, 48, 48, 48]               0\n",
      "         UpBlock-175       [-1, 32, 48, 48, 48]               0\n",
      "       GroupNorm-176       [-1, 64, 48, 48, 48]             128\n",
      "           Swish-177       [-1, 64, 48, 48, 48]               0\n",
      "          Conv3d-178       [-1, 64, 48, 48, 48]           1,792\n",
      "          Conv3d-179       [-1, 32, 48, 48, 48]           2,080\n",
      "  DepthSepConv3d-180       [-1, 32, 48, 48, 48]               0\n",
      "       GroupNorm-181       [-1, 32, 48, 48, 48]              64\n",
      "           Swish-182       [-1, 32, 48, 48, 48]               0\n",
      "          Conv3d-183       [-1, 32, 48, 48, 48]             896\n",
      "          Conv3d-184       [-1, 32, 48, 48, 48]           1,056\n",
      "  DepthSepConv3d-185       [-1, 32, 48, 48, 48]               0\n",
      "          Conv3d-186       [-1, 32, 48, 48, 48]           2,080\n",
      "   ResidualBlock-187       [-1, 32, 48, 48, 48]               0\n",
      "        Identity-188       [-1, 32, 48, 48, 48]               0\n",
      "         UpBlock-189       [-1, 32, 48, 48, 48]               0\n",
      " ConvTranspose3d-190       [-1, 32, 96, 96, 96]          65,568\n",
      "        Upsample-191       [-1, 32, 96, 96, 96]               0\n",
      "       GroupNorm-192       [-1, 64, 96, 96, 96]             128\n",
      "           Swish-193       [-1, 64, 96, 96, 96]               0\n",
      "          Conv3d-194       [-1, 64, 96, 96, 96]           1,792\n",
      "          Conv3d-195       [-1, 32, 96, 96, 96]           2,080\n",
      "  DepthSepConv3d-196       [-1, 32, 96, 96, 96]               0\n",
      "       GroupNorm-197       [-1, 32, 96, 96, 96]              64\n",
      "           Swish-198       [-1, 32, 96, 96, 96]               0\n",
      "          Conv3d-199       [-1, 32, 96, 96, 96]             896\n",
      "          Conv3d-200       [-1, 32, 96, 96, 96]           1,056\n",
      "  DepthSepConv3d-201       [-1, 32, 96, 96, 96]               0\n",
      "          Conv3d-202       [-1, 32, 96, 96, 96]           2,080\n",
      "   ResidualBlock-203       [-1, 32, 96, 96, 96]               0\n",
      "        Identity-204       [-1, 32, 96, 96, 96]               0\n",
      "         UpBlock-205       [-1, 32, 96, 96, 96]               0\n",
      "       GroupNorm-206       [-1, 64, 96, 96, 96]             128\n",
      "           Swish-207       [-1, 64, 96, 96, 96]               0\n",
      "          Conv3d-208       [-1, 64, 96, 96, 96]           1,792\n",
      "          Conv3d-209       [-1, 32, 96, 96, 96]           2,080\n",
      "  DepthSepConv3d-210       [-1, 32, 96, 96, 96]               0\n",
      "       GroupNorm-211       [-1, 32, 96, 96, 96]              64\n",
      "           Swish-212       [-1, 32, 96, 96, 96]               0\n",
      "          Conv3d-213       [-1, 32, 96, 96, 96]             896\n",
      "          Conv3d-214       [-1, 32, 96, 96, 96]           1,056\n",
      "  DepthSepConv3d-215       [-1, 32, 96, 96, 96]               0\n",
      "          Conv3d-216       [-1, 32, 96, 96, 96]           2,080\n",
      "   ResidualBlock-217       [-1, 32, 96, 96, 96]               0\n",
      "        Identity-218       [-1, 32, 96, 96, 96]               0\n",
      "         UpBlock-219       [-1, 32, 96, 96, 96]               0\n",
      "       GroupNorm-220       [-1, 32, 96, 96, 96]              64\n",
      "           Swish-221       [-1, 32, 96, 96, 96]               0\n",
      "          Conv3d-222       [-1, 32, 96, 96, 96]             896\n",
      "          Conv3d-223        [-1, 1, 96, 96, 96]              33\n",
      "  DepthSepConv3d-224        [-1, 1, 96, 96, 96]               0\n",
      "         Sigmoid-225        [-1, 1, 96, 96, 96]               0\n",
      "================================================================\n",
      "Total params: 490,401\n",
      "Trainable params: 490,401\n",
      "Non-trainable params: 0\n",
      "----------------------------------------------------------------\n",
      "Input size (MB): 3.38\n",
      "Forward/backward pass size (MB): 13292.44\n",
      "Params size (MB): 1.87\n",
      "Estimated Total Size (MB): 13297.68\n",
      "----------------------------------------------------------------\n"
     ]
    }
   ],
   "source": [
    "n_channels=32\n",
    "ch_mults=(1,1,1,1)\n",
    "is_attn=(False,False,False,True)\n",
    "n_blocks=1\n",
    "depthwise_separable=True\n",
    "\n",
    "config[\"n_channels\"]=n_channels\n",
    "config[\"ch_mults\"]=ch_mults\n",
    "config[\"is_attn\"]=is_attn\n",
    "config[\"n_blocks\"]=n_blocks\n",
    "config[\"depthwise_separable\"]=depthwise_separable\n",
    "\n",
    "model=UNet3D(image_channels=1,n_channels=n_channels,ch_mults=ch_mults,is_attn=is_attn,n_blocks=n_blocks,depthwise_separable=depthwise_separable)\n",
    "\n",
    "device=\"cuda:0\"\n",
    "model=model.to(device)\n",
    "summary(model,(1,96,96,96))"
   ]
  },
  {
   "cell_type": "markdown",
   "id": "e40dd047-d14a-48e5-a893-35cd4b6d6114",
   "metadata": {},
   "source": [
    "### Criterion and optimizers"
   ]
  },
  {
   "cell_type": "code",
   "execution_count": 17,
   "id": "7e6e9e2a-87c0-4ba9-80ae-fc672a9666ad",
   "metadata": {},
   "outputs": [],
   "source": [
    "\n",
    "\n",
    "def criterion(y_pred,y,mse_weight=mse_weight,bce_weight=bce_weight,ssim_weight=ssim_weight):\n",
    "    return mse_weight*mse_loss(y_pred,y)+bce_weight*bce_loss(y_pred,y)+ssim_weight*ssim_loss(y_pred,y)\n"
   ]
  },
  {
   "cell_type": "code",
   "execution_count": 18,
   "id": "941fec8d-9eb2-44c9-812c-69ba174faccd",
   "metadata": {},
   "outputs": [],
   "source": [
    "optim=torch.optim.Adam(model.parameters(),lr=1e-4)\n"
   ]
  },
  {
   "cell_type": "markdown",
   "id": "d2127658-57e8-42bf-a3d7-dfd372b3f3fc",
   "metadata": {},
   "source": [
    "### wandb log"
   ]
  },
  {
   "cell_type": "code",
   "execution_count": 19,
   "id": "a4fd4b9d-d72c-4180-b1a8-16bcec6fed94",
   "metadata": {},
   "outputs": [],
   "source": [
    "def make_grid_images(example_pred,example_true):\n",
    "    img_pred=make_grid(example_pred.permute(3,0,1,2).cpu())\n",
    "    img_true=make_grid(example_true.permute(3,0,1,2).cpu())\n",
    "    return img_pred,img_true\n",
    "    "
   ]
  },
  {
   "cell_type": "code",
   "execution_count": null,
   "id": "4c661583-ce2b-4ec1-bbba-696ee3db977a",
   "metadata": {},
   "outputs": [
    {
     "name": "stderr",
     "output_type": "stream",
     "text": [
      "epoch 0 loss: 0.11867859959602356: 100%|█████████████████████████| 82/82 [01:41<00:00,  1.24s/it]\n",
      "val epoch 0 val loss: 0.10610947012901306: 100%|█████████████████| 20/20 [00:19<00:00,  1.02it/s]\n",
      "epoch 1 loss: 0.1038224846124649: 100%|██████████████████████████| 82/82 [01:41<00:00,  1.24s/it]\n",
      "val epoch 1 val loss: 0.11379950493574142: 100%|█████████████████| 20/20 [00:19<00:00,  1.02it/s]\n",
      "epoch 2 loss: 0.09276529401540756: 100%|█████████████████████████| 82/82 [01:41<00:00,  1.24s/it]\n",
      "val epoch 2 val loss: 0.10726530849933624: 100%|█████████████████| 20/20 [00:19<00:00,  1.02it/s]\n",
      "epoch 3 loss: 0.07470208406448364: 100%|█████████████████████████| 82/82 [01:41<00:00,  1.24s/it]\n",
      "val epoch 3 val loss: 0.11342556029558182: 100%|█████████████████| 20/20 [00:19<00:00,  1.02it/s]\n",
      "epoch 4 loss: 0.12672509253025055: 100%|█████████████████████████| 82/82 [01:41<00:00,  1.24s/it]\n",
      "val epoch 4 val loss: 0.11460360884666443: 100%|█████████████████| 20/20 [00:19<00:00,  1.02it/s]\n",
      "epoch 5 loss: 0.10709124058485031:  34%|████████▌                | 28/82 [00:34<01:07,  1.25s/it]"
     ]
    }
   ],
   "source": [
    "EPOCHS=50\n",
    "save_model=1\n",
    "outdir=f\"models_regressed/unet_t12pet_fold_{fold}\"\n",
    "os.makedirs(outdir,exist_ok=True)\n",
    "\n",
    "loss_history=[]\n",
    "val_loss_history=[]\n",
    "# pbar=tqdm.tqdm(range(EPOCHS))\n",
    "for epoch in range(EPOCHS):\n",
    "    \n",
    "    ## TRAINING\n",
    "    \n",
    "    pbar=tqdm.tqdm(train_dataloader)\n",
    "    for x,y,m,l in pbar:\n",
    "        \n",
    "        optim.zero_grad()\n",
    "        x,y,m=x.to(device),y.to(device),m.to(device)\n",
    "        y_pred=model(x)\n",
    "        #use the mask\n",
    "        y_pred=m*y_pred\n",
    "        \n",
    "        #compute masked_loss\n",
    "        loss=criterion(y_pred,m*y)\n",
    "        loss.backward()\n",
    "        optim.step()\n",
    "        \n",
    "        pbar.set_description(f\"epoch {epoch} loss: {loss.item()}\")\n",
    "        loss_history.append(loss.item())\n",
    "        wandb.log({\"loss\":loss.item()})\n",
    "        \n",
    "    ## VALIDATION\n",
    "    \n",
    "    with torch.no_grad():\n",
    "        pbar_val=tqdm.tqdm(test_dataloader)\n",
    "        for x,y,m,l in pbar_val:\n",
    "        \n",
    "        \n",
    "            x,y,m=x.to(device),y.to(device),m.to(device)\n",
    "            y_pred=model(x)\n",
    "            #use the mask\n",
    "            y_pred=m*y_pred\n",
    "\n",
    "            #compute masked_loss\n",
    "            loss=criterion(y_pred,m*y)\n",
    "            mse=mse_loss(y_pred,m*y)\n",
    "            ssim=ssim_loss(y_pred,m*y)\n",
    "            bce=bce_loss(y_pred,m*y)\n",
    "\n",
    "            pbar_val.set_description(f\"val epoch {epoch} val loss: {loss.item()}\")\n",
    "            val_loss_history.append(loss.item())\n",
    "            wandb.log({\"val_loss\":loss.item()})\n",
    "            \n",
    "            ## ADD LOG IMAGES\n",
    "        example_true=y[0]\n",
    "        example_pred=y_pred[0]\n",
    "        img_pred,img_true=make_grid_images(example_pred,example_true)\n",
    "        wandb.log({\"original\": wandb.Image(img_true.permute(1,2,0)), \"reconstructed\":wandb.Image(img_pred.permute(1,2,0))})\n",
    "    \n",
    "    if epoch%save_model==0:\n",
    "        ## SAVE MODEL\n",
    "        torch.save(model.state_dict(),f\"{outdir}/{outdir}_{epoch}.pt\")\n",
    "    \n",
    "    "
   ]
  },
  {
   "cell_type": "code",
   "execution_count": null,
   "id": "7d963fa8-d166-4b1b-a62f-cd9e8c07806c",
   "metadata": {},
   "outputs": [],
   "source": [
    "img_pred.shape"
   ]
  },
  {
   "cell_type": "code",
   "execution_count": null,
   "id": "5fe6f508-bddc-42de-a59f-3ebaee1dc003",
   "metadata": {},
   "outputs": [],
   "source": [
    "torch.save(model.state_dict(),f\"{outdir}/{outdir}_final_fold_{fold}.pt\")"
   ]
  },
  {
   "cell_type": "code",
   "execution_count": null,
   "id": "c58330ab-eeb8-476d-8d1e-4e2543dcc7fe",
   "metadata": {},
   "outputs": [],
   "source": [
    "model.cpu()"
   ]
  }
 ],
 "metadata": {
  "kernelspec": {
   "display_name": "dreamfusion",
   "language": "python",
   "name": "dreamfusion"
  },
  "language_info": {
   "codemirror_mode": {
    "name": "ipython",
    "version": 3
   },
   "file_extension": ".py",
   "mimetype": "text/x-python",
   "name": "python",
   "nbconvert_exporter": "python",
   "pygments_lexer": "ipython3",
   "version": "3.10.4"
  }
 },
 "nbformat": 4,
 "nbformat_minor": 5
}
