{
 "cells": [
  {
   "cell_type": "markdown",
   "id": "eca609af-0262-48f3-809c-b5d80247ff48",
   "metadata": {},
   "source": [
    "# Running OLS Feat voxel-wise analysis"
   ]
  },
  {
   "cell_type": "code",
   "execution_count": 39,
   "id": "69329b11-308e-4088-8b80-d385618f27e4",
   "metadata": {},
   "outputs": [],
   "source": [
    "import numpy as np\n",
    "import glob\n",
    "import os\n",
    "import shutil\n",
    "from os.path import join as opj\n",
    "import tqdm"
   ]
  },
  {
   "cell_type": "code",
   "execution_count": 4,
   "id": "910bfc03-ea14-4b7a-8234-5a414ba33fe7",
   "metadata": {},
   "outputs": [],
   "source": [
    "original_mni_pet_path=\"generated/original_final_mni\"\n",
    "converted_mni_pet_path=\"generated/converted_final_mni\"\n",
    "\n",
    "target_dir=\"generated/feat_analysis/stats\""
   ]
  },
  {
   "cell_type": "code",
   "execution_count": null,
   "id": "a2319816-11de-4d31-8ebd-26489eae62e0",
   "metadata": {},
   "outputs": [],
   "source": []
  },
  {
   "cell_type": "code",
   "execution_count": 8,
   "id": "52a41c85-b12f-4c23-9b58-5ebfcdf4e577",
   "metadata": {},
   "outputs": [
    {
     "name": "stderr",
     "output_type": "stream",
     "text": [
      "100%|█████████████████████████████████████████████| 3/3 [00:00<00:00, 42.52it/s]\n"
     ]
    }
   ],
   "source": [
    "\n",
    "\n",
    "for subdir in tqdm.tqdm(os.listdir(original_mni_pet_path)):\n",
    "    for file in os.listdir(opj(original_mni_pet_path,subdir)):\n",
    "        \n",
    "        src_original=opj(original_mni_pet_path,subdir,file)\n",
    "        src_converted=opj(converted_mni_pet_path,subdir,file)\n",
    "        \n",
    "        src_mask=\"generated/feat_analysis/mask.nii.gz\"\n",
    "        \n",
    "        dst_original=opj(target_dir,f\"cope1_{file.replace('.nii.gz','_ORIGINAL.nii.gz')}\")\n",
    "        dst_converted=opj(target_dir,f\"cope1_{file.replace('.nii.gz','_CONVERTED.nii.gz')}\")\n",
    "        \n",
    "        dst_mask_original=opj(target_dir,f\"varcope1_{file.replace('.nii.gz','_ORIGINAL.nii.gz')}\")\n",
    "        dst_mask_converted=opj(target_dir,f\"varcope1_{file.replace('.nii.gz','_CONVERTED.nii.gz')}\")\n",
    "        \n",
    "        shutil.copy(src_original,dst_original)\n",
    "        shutil.copy(src_converted,dst_converted)\n",
    "        shutil.copy(src_mask,dst_mask_original)\n",
    "        shutil.copy(src_mask,dst_mask_converted)\n",
    "        \n",
    "        "
   ]
  },
  {
   "cell_type": "markdown",
   "id": "7cdcb0b2-b83f-496b-be6a-54f26f55e68c",
   "metadata": {},
   "source": [
    "### For each study we want to compute the list of cases and the design matrices"
   ]
  },
  {
   "cell_type": "code",
   "execution_count": 43,
   "id": "fc3cff33-3390-41eb-a7bf-6d3d76f48a30",
   "metadata": {},
   "outputs": [],
   "source": [
    "files=glob.glob(opj(target_dir,\"*.nii.gz\"))\n",
    "files=[i for i in files if \"varcope1\" not in i]\n",
    "files=[f\"/home/matteo/MRI2PET/{i}\" for i in files]"
   ]
  },
  {
   "cell_type": "code",
   "execution_count": 52,
   "id": "363a5752-6f25-4077-bd36-690f5aaf60ef",
   "metadata": {},
   "outputs": [],
   "source": [
    "\n",
    "\n",
    "original_clb=[i for i in files if \"CLB\" in i and \"ORIGINAL\" in i]\n",
    "original_hc=[i for i in files if \"PBRKOA_HC\" in i and \"ORIGINAL\" in i]\n",
    "original_koa=[i for i in files if \"PBRKOA_KOA\" in i and \"ORIGINAL\" in i]\n",
    "\n",
    "\n",
    "converted_clb=[i for i in files if \"CLB\" in i and \"CONVERTED\" in i]\n",
    "converted_hc=[i for i in files if \"PBRKOA_HC\" in i and \"CONVERTED\" in i]\n",
    "converted_koa=[i for i in files if \"PBRKOA_KOA\" in i and \"CONVERTED\" in i]\n"
   ]
  },
  {
   "cell_type": "code",
   "execution_count": 53,
   "id": "da462be1-ebdc-47ab-9fbc-b762514df03a",
   "metadata": {},
   "outputs": [],
   "source": [
    "hc_clb_original=original_hc+original_clb\n",
    "hc_koa_original=original_hc+original_koa\n",
    "clb_koa_original=original_clb+original_koa\n",
    "\n",
    "hc_clb_converted=converted_hc+converted_clb\n",
    "hc_koa_converted=converted_hc+converted_koa\n",
    "clb_koa_converted=converted_clb+converted_koa"
   ]
  },
  {
   "cell_type": "code",
   "execution_count": null,
   "id": "55e8220b-8828-43ce-987a-014c11884e87",
   "metadata": {},
   "outputs": [],
   "source": []
  },
  {
   "cell_type": "code",
   "execution_count": 54,
   "id": "b32e5300-276f-423d-9bba-d1ba1889c3c3",
   "metadata": {},
   "outputs": [],
   "source": [
    "hc_clb_design=[[1,0]]*len(original_hc)+[[0,1]]*len(original_clb)\n",
    "hc_koa_design=[[1,0]]*len(original_hc)+[[0,1]]*len(original_koa)\n",
    "clb_koa_design=[[1,0]]*len(original_koa)+[[0,1]]*len(original_clb)\n",
    "\n",
    "hc_clb_design=np.array(hc_clb_design,dtype=int)\n",
    "hc_koa_design=np.array(hc_koa_design,dtype=int)\n",
    "clb_koa_design=np.array(clb_koa_design,dtype=int)\n"
   ]
  },
  {
   "cell_type": "code",
   "execution_count": 55,
   "id": "d7433e83-381b-4ea4-8a9d-082dc6a4d02f",
   "metadata": {},
   "outputs": [],
   "source": [
    "out_dir=\"generated/feat_analysis/util\"\n",
    "os.makedirs(out_dir,exist_ok=True)\n",
    "with open(opj(out_dir,\"hc_clb_original_files.txt\"), 'w') as fp:\n",
    "    fp.write('\\n'.join(hc_clb_original))\n",
    "    \n",
    "with open(opj(out_dir,\"hc_koa_original_files.txt\"), 'w') as fp:\n",
    "    fp.write('\\n'.join(hc_koa_original))\n",
    "    \n",
    "with open(opj(out_dir,\"clb_koa_original_files.txt\"), 'w') as fp:\n",
    "    fp.write('\\n'.join(clb_koa_original))\n",
    "    \n",
    "with open(opj(out_dir,\"hc_clb_converted_files.txt\"), 'w') as fp:\n",
    "    fp.write('\\n'.join(hc_clb_converted))\n",
    "    \n",
    "with open(opj(out_dir,\"hc_koa_converted_files.txt\"), 'w') as fp:\n",
    "    fp.write('\\n'.join(hc_koa_converted))\n",
    "    \n",
    "with open(opj(out_dir,\"clb_koa_converted_files.txt\"), 'w') as fp:\n",
    "    fp.write('\\n'.join(clb_koa_converted))"
   ]
  },
  {
   "cell_type": "code",
   "execution_count": 48,
   "id": "383c8acb-d9b8-4b4f-997a-a2f79b501606",
   "metadata": {},
   "outputs": [],
   "source": [
    "np.savetxt(opj(out_dir,\"hc_clb_design.txt\"),hc_clb_design)\n",
    "np.savetxt(opj(out_dir,\"hc_koa_design.txt\"),hc_koa_design)\n",
    "np.savetxt(opj(out_dir,\"clb_koa_design.txt\"),clb_koa_design)\n"
   ]
  },
  {
   "cell_type": "markdown",
   "id": "6f845dcf-cf05-494e-bf3d-8c24cd89b78e",
   "metadata": {},
   "source": [
    "### paired"
   ]
  },
  {
   "cell_type": "code",
   "execution_count": 56,
   "id": "870675b8-e7ac-4286-bd4b-ff621ca98a88",
   "metadata": {},
   "outputs": [],
   "source": [
    "paired_hc=original_hc+converted_hc\n",
    "paired_clb=original_clb+converted_clb\n",
    "paired_koa=original_koa+converted_koa\n",
    "\n",
    "with open(opj(out_dir,\"hc_paired_files.txt\"), 'w') as fp:\n",
    "    fp.write('\\n'.join(paired_hc))\n",
    "    \n",
    "with open(opj(out_dir,\"koa_paired.txt\"), 'w') as fp:\n",
    "    fp.write('\\n'.join(paired_koa))\n",
    "    \n",
    "with open(opj(out_dir,\"clb_paired.txt\"), 'w') as fp:\n",
    "    fp.write('\\n'.join(paired_clb))\n",
    "\n",
    "\n"
   ]
  },
  {
   "cell_type": "code",
   "execution_count": 57,
   "id": "aec2b59a-1a4e-457d-b3c9-b8ca59eb1909",
   "metadata": {},
   "outputs": [
    {
     "data": {
      "text/plain": [
       "'generated/feat_analysis/util'"
      ]
     },
     "execution_count": 57,
     "metadata": {},
     "output_type": "execute_result"
    }
   ],
   "source": [
    "out_dir"
   ]
  }
 ],
 "metadata": {
  "kernelspec": {
   "display_name": "pytorch",
   "language": "python",
   "name": "pytorch"
  },
  "language_info": {
   "codemirror_mode": {
    "name": "ipython",
    "version": 3
   },
   "file_extension": ".py",
   "mimetype": "text/x-python",
   "name": "python",
   "nbconvert_exporter": "python",
   "pygments_lexer": "ipython3",
   "version": "3.9.12"
  }
 },
 "nbformat": 4,
 "nbformat_minor": 5
}
