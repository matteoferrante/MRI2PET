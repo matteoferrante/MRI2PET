{
 "cells": [
  {
   "cell_type": "code",
   "execution_count": 1,
   "id": "51e33883-1f08-4b9d-a2b4-bb35b2434a6e",
   "metadata": {},
   "outputs": [],
   "source": [
    "import pandas as pd\n",
    "import numpy as np"
   ]
  },
  {
   "cell_type": "code",
   "execution_count": 2,
   "id": "f3e367a4-351c-4138-8ea2-01c28c670f64",
   "metadata": {},
   "outputs": [
    {
     "data": {
      "text/html": [
       "<div>\n",
       "<style scoped>\n",
       "    .dataframe tbody tr th:only-of-type {\n",
       "        vertical-align: middle;\n",
       "    }\n",
       "\n",
       "    .dataframe tbody tr th {\n",
       "        vertical-align: top;\n",
       "    }\n",
       "\n",
       "    .dataframe thead th {\n",
       "        text-align: right;\n",
       "    }\n",
       "</style>\n",
       "<table border=\"1\" class=\"dataframe\">\n",
       "  <thead>\n",
       "    <tr style=\"text-align: right;\">\n",
       "      <th></th>\n",
       "      <th>Name</th>\n",
       "      <th>Genotype</th>\n",
       "      <th>Order</th>\n",
       "    </tr>\n",
       "  </thead>\n",
       "  <tbody>\n",
       "    <tr>\n",
       "      <th>0</th>\n",
       "      <td>IGN_CLBP001_01</td>\n",
       "      <td>GG</td>\n",
       "      <td>IGN_CLBP001_01_suv_orientOK_skullstripped.nii.gz</td>\n",
       "    </tr>\n",
       "    <tr>\n",
       "      <th>1</th>\n",
       "      <td>IGN_CLBP001_02</td>\n",
       "      <td>GG</td>\n",
       "      <td>IGN_CLBP001_02_suv_orientOK_skullstripped.nii.gz</td>\n",
       "    </tr>\n",
       "    <tr>\n",
       "      <th>2</th>\n",
       "      <td>IGN_CLBP002_01</td>\n",
       "      <td>GG</td>\n",
       "      <td>IGN_CLBP002_01_suv_orientOK_skullstripped.nii.gz</td>\n",
       "    </tr>\n",
       "    <tr>\n",
       "      <th>3</th>\n",
       "      <td>IGN_CLBP002_02</td>\n",
       "      <td>GG</td>\n",
       "      <td>IGN_CLBP002_02_suv_orientOK_skullstripped.nii.gz</td>\n",
       "    </tr>\n",
       "    <tr>\n",
       "      <th>4</th>\n",
       "      <td>IGN_CLBP003_01</td>\n",
       "      <td>GG</td>\n",
       "      <td>IGN_CLBP003_01_suv_orientOK_skullstripped.nii.gz</td>\n",
       "    </tr>\n",
       "    <tr>\n",
       "      <th>...</th>\n",
       "      <td>...</td>\n",
       "      <td>...</td>\n",
       "      <td>...</td>\n",
       "    </tr>\n",
       "    <tr>\n",
       "      <th>1007</th>\n",
       "      <td>NaN</td>\n",
       "      <td>NaN</td>\n",
       "      <td>NaN</td>\n",
       "    </tr>\n",
       "    <tr>\n",
       "      <th>1008</th>\n",
       "      <td>NaN</td>\n",
       "      <td>NaN</td>\n",
       "      <td>NaN</td>\n",
       "    </tr>\n",
       "    <tr>\n",
       "      <th>1009</th>\n",
       "      <td>NaN</td>\n",
       "      <td>NaN</td>\n",
       "      <td>NaN</td>\n",
       "    </tr>\n",
       "    <tr>\n",
       "      <th>1010</th>\n",
       "      <td>NaN</td>\n",
       "      <td>NaN</td>\n",
       "      <td>NaN</td>\n",
       "    </tr>\n",
       "    <tr>\n",
       "      <th>1011</th>\n",
       "      <td>NaN</td>\n",
       "      <td>NaN</td>\n",
       "      <td>NaN</td>\n",
       "    </tr>\n",
       "  </tbody>\n",
       "</table>\n",
       "<p>1012 rows × 3 columns</p>\n",
       "</div>"
      ],
      "text/plain": [
       "                Name Genotype  \\\n",
       "0     IGN_CLBP001_01       GG   \n",
       "1     IGN_CLBP001_02       GG   \n",
       "2     IGN_CLBP002_01       GG   \n",
       "3     IGN_CLBP002_02       GG   \n",
       "4     IGN_CLBP003_01       GG   \n",
       "...              ...      ...   \n",
       "1007             NaN      NaN   \n",
       "1008             NaN      NaN   \n",
       "1009             NaN      NaN   \n",
       "1010             NaN      NaN   \n",
       "1011             NaN      NaN   \n",
       "\n",
       "                                                 Order  \n",
       "0     IGN_CLBP001_01_suv_orientOK_skullstripped.nii.gz  \n",
       "1     IGN_CLBP001_02_suv_orientOK_skullstripped.nii.gz  \n",
       "2     IGN_CLBP002_01_suv_orientOK_skullstripped.nii.gz  \n",
       "3     IGN_CLBP002_02_suv_orientOK_skullstripped.nii.gz  \n",
       "4     IGN_CLBP003_01_suv_orientOK_skullstripped.nii.gz  \n",
       "...                                                ...  \n",
       "1007                                               NaN  \n",
       "1008                                               NaN  \n",
       "1009                                               NaN  \n",
       "1010                                               NaN  \n",
       "1011                                               NaN  \n",
       "\n",
       "[1012 rows x 3 columns]"
      ]
     },
     "execution_count": 2,
     "metadata": {},
     "output_type": "execute_result"
    }
   ],
   "source": [
    "data=pd.read_csv(\"mripet_genotype.csv\",sep=\";\")\n",
    "data"
   ]
  },
  {
   "cell_type": "code",
   "execution_count": 64,
   "id": "4030fa10-31f8-4a21-9c53-55dc389efac0",
   "metadata": {},
   "outputs": [],
   "source": [
    "# data\n",
    "\n",
    "# "
   ]
  },
  {
   "cell_type": "code",
   "execution_count": 19,
   "id": "c36d38fc-9c71-4a9a-a1ff-9c0647ae7737",
   "metadata": {},
   "outputs": [
    {
     "name": "stdout",
     "output_type": "stream",
     "text": [
      "CLB 80 163 0.49079754601226994\n",
      "HC 43 44 0.9772727272727273\n",
      "KOA 48 96 0.5\n"
     ]
    }
   ],
   "source": [
    "names= data.Name.dropna()\n",
    "\n",
    "names_clbp = [i[:11] for i in names if \"IGN\" in i]\n",
    "names_hc = [i[:12] for i in names if \"HC\" in i]\n",
    "names_koa = [i[:13] for i in names if \"PBRKOA_K\" in i]\n",
    "\n",
    "clb_uniques, clb_counts = np.unique(names_clbp, return_counts=True)\n",
    "koa_uniques, koa_counts = np.unique(names_koa, return_counts=True)\n",
    "hc_uniques, hc_counts = np.unique(names_hc, return_counts=True)\n",
    "\n",
    "print(\"CLB\", len(clb_uniques), len(names_clbp), len(clb_uniques)/len(names_clbp) )\n",
    "\n",
    "print(\"HC\", len(hc_uniques), len(names_hc),len(hc_uniques)/len(names_hc))\n",
    "\n",
    "print(\"KOA\", len(koa_uniques), len(names_koa), len(koa_uniques)/len(names_koa))\n"
   ]
  },
  {
   "cell_type": "code",
   "execution_count": 20,
   "id": "ad069b6f-d378-423a-953e-72a112be9d88",
   "metadata": {},
   "outputs": [
    {
     "name": "stdout",
     "output_type": "stream",
     "text": [
      "CLB -> 1 count: 0, 2 counts: 77, 3 counts: 3, 4 counts: 0, Total: 80\n",
      "HC -> 1 count: 42, 2 counts: 1, 3 counts: 0, 4 counts: 0, Total: 43\n",
      "KOA -> 1 count: 16, 2 counts: 16, 3 counts: 16, 4 counts: 0, Total: 48\n"
     ]
    }
   ],
   "source": [
    "# Function to get counts by occurrences (1, 2, 3, 4) and total count\n",
    "def count_occurrences(counts):\n",
    "    count_1 = sum(counts == 1)\n",
    "    count_2 = sum(counts == 2)\n",
    "    count_3 = sum(counts == 3)\n",
    "    count_4 = sum(counts == 4)\n",
    "    total = len(counts)\n",
    "    return count_1, count_2, count_3, count_4, total\n",
    "\n",
    "# Get counts for each category\n",
    "clb_1, clb_2, clb_3, clb_4, clb_total = count_occurrences(clb_counts)\n",
    "koa_1, koa_2, koa_3, koa_4, koa_total = count_occurrences(koa_counts)\n",
    "hc_1, hc_2, hc_3, hc_4, hc_total = count_occurrences(hc_counts)\n",
    "\n",
    "# Display the results with total counts\n",
    "print(f\"CLB -> 1 count: {clb_1}, 2 counts: {clb_2}, 3 counts: {clb_3}, 4 counts: {clb_4}, Total: {clb_total}\")\n",
    "print(f\"HC -> 1 count: {hc_1}, 2 counts: {hc_2}, 3 counts: {hc_3}, 4 counts: {hc_4}, Total: {hc_total}\")\n",
    "print(f\"KOA -> 1 count: {koa_1}, 2 counts: {koa_2}, 3 counts: {koa_3}, 4 counts: {koa_4}, Total: {koa_total}\")"
   ]
  },
  {
   "cell_type": "code",
   "execution_count": 25,
   "id": "a7d960f8-81f5-44ab-969d-ce9611dee68e",
   "metadata": {},
   "outputs": [
    {
     "data": {
      "text/plain": [
       "(163, 96, 44)"
      ]
     },
     "execution_count": 25,
     "metadata": {},
     "output_type": "execute_result"
    }
   ],
   "source": [
    "clb_1+clb_2*2+clb_3*3+clb_4*4, koa_1+koa_2*2+koa_3*3+koa_4*4, hc_1*1+hc_2*2"
   ]
  },
  {
   "cell_type": "code",
   "execution_count": 11,
   "id": "198cd648-3df3-4675-8dfa-3ea9b7eae761",
   "metadata": {},
   "outputs": [
    {
     "data": {
      "text/plain": [
       "(96, 96, 163, 44)"
      ]
     },
     "execution_count": 11,
     "metadata": {},
     "output_type": "execute_result"
    }
   ],
   "source": [
    "16*3+16*2+16, len(names_koa), len(names_clbp), len(names_hc)\n"
   ]
  },
  {
   "cell_type": "code",
   "execution_count": 13,
   "id": "91d7bd35-0e0c-4b60-b799-1e48af99aa5e",
   "metadata": {},
   "outputs": [
    {
     "data": {
      "text/plain": [
       "(303, 171)"
      ]
     },
     "execution_count": 13,
     "metadata": {},
     "output_type": "execute_result"
    }
   ],
   "source": [
    "96+163+44, len(clb_uniques)+len(koa_uniques)+len(hc_uniques)"
   ]
  },
  {
   "cell_type": "code",
   "execution_count": 24,
   "id": "bfafda02-dc72-4faa-9c32-29cc8f6c5eb3",
   "metadata": {},
   "outputs": [
    {
     "ename": "TypeError",
     "evalue": "sequence item 0: expected str instance, list found",
     "output_type": "error",
     "traceback": [
      "\u001b[0;31m---------------------------------------------------------------------------\u001b[0m",
      "\u001b[0;31mTypeError\u001b[0m                                 Traceback (most recent call last)",
      "\u001b[0;32m/tmp/ipykernel_3271929/3124509900.py\u001b[0m in \u001b[0;36m<module>\u001b[0;34m\u001b[0m\n\u001b[1;32m      1\u001b[0m \u001b[0;31m# Extract the subject ID (ignoring the _idx part) to identify unique subjects\u001b[0m\u001b[0;34m\u001b[0m\u001b[0;34m\u001b[0m\u001b[0;34m\u001b[0m\u001b[0m\n\u001b[0;32m----> 2\u001b[0;31m \u001b[0mdata\u001b[0m\u001b[0;34m[\u001b[0m\u001b[0;34m'Subject_ID'\u001b[0m\u001b[0;34m]\u001b[0m \u001b[0;34m=\u001b[0m \u001b[0;34m\"_\"\u001b[0m\u001b[0;34m.\u001b[0m\u001b[0mjoin\u001b[0m\u001b[0;34m(\u001b[0m\u001b[0mdata\u001b[0m\u001b[0;34m[\u001b[0m\u001b[0;34m'Name'\u001b[0m\u001b[0;34m]\u001b[0m\u001b[0;34m.\u001b[0m\u001b[0mstr\u001b[0m\u001b[0;34m.\u001b[0m\u001b[0msplit\u001b[0m\u001b[0;34m(\u001b[0m\u001b[0;34m\"_\"\u001b[0m\u001b[0;34m)\u001b[0m\u001b[0;34m)\u001b[0m\u001b[0;34m[\u001b[0m\u001b[0;34m:\u001b[0m\u001b[0;34m-\u001b[0m\u001b[0;36m1\u001b[0m\u001b[0;34m]\u001b[0m\u001b[0;34m\u001b[0m\u001b[0;34m\u001b[0m\u001b[0m\n\u001b[0m\u001b[1;32m      3\u001b[0m \u001b[0;31m# Count the number of unique subjects\u001b[0m\u001b[0;34m\u001b[0m\u001b[0;34m\u001b[0m\u001b[0;34m\u001b[0m\u001b[0m\n\u001b[1;32m      4\u001b[0m \u001b[0munique_subjects\u001b[0m \u001b[0;34m=\u001b[0m \u001b[0mdata\u001b[0m\u001b[0;34m[\u001b[0m\u001b[0;34m'Subject_ID'\u001b[0m\u001b[0;34m]\u001b[0m\u001b[0;34m.\u001b[0m\u001b[0mnunique\u001b[0m\u001b[0;34m(\u001b[0m\u001b[0;34m)\u001b[0m\u001b[0;34m\u001b[0m\u001b[0;34m\u001b[0m\u001b[0m\n\u001b[1;32m      5\u001b[0m \u001b[0;34m\u001b[0m\u001b[0m\n",
      "\u001b[0;31mTypeError\u001b[0m: sequence item 0: expected str instance, list found"
     ]
    }
   ],
   "source": [
    "# Extract the subject ID (ignoring the _idx part) to identify unique subjects\n",
    "data['Subject_ID'] = \"_\".join(data['Name'].str.split(\"_\"))[:-1]\n",
    "# Count the number of unique subjects\n",
    "unique_subjects = data['Subject_ID'].nunique()\n",
    "\n",
    "# Identify repeated scans by counting occurrences of each subject ID\n",
    "repeated_scans = data['Subject_ID'].value_counts()\n",
    "\n",
    "# Display the results\n",
    "unique_subjects, repeated_scans[repeated_scans > 1]\n"
   ]
  },
  {
   "cell_type": "code",
   "execution_count": 35,
   "id": "e667b13e-d97a-4b6a-b9ef-d7fceb6e843e",
   "metadata": {},
   "outputs": [
    {
     "data": {
      "text/plain": [
       "0            [IGN, CLBP001, 01]\n",
       "1            [IGN, CLBP001, 02]\n",
       "2            [IGN, CLBP002, 01]\n",
       "3            [IGN, CLBP002, 02]\n",
       "4            [IGN, CLBP003, 01]\n",
       "                 ...           \n",
       "198    [PBRKOA, KOA024, 060519]\n",
       "199    [PBRKOA, KOA025, 062619]\n",
       "200    [PBRKOA, KOA025, 080619]\n",
       "201    [PBRKOA, KOA025, 090220]\n",
       "202    [PBRKOA, KOA026, 060619]\n",
       "Name: Name, Length: 202, dtype: object"
      ]
     },
     "execution_count": 35,
     "metadata": {},
     "output_type": "execute_result"
    }
   ],
   "source": [
    "data[\"Name\"].str.split(\"_\")"
   ]
  }
 ],
 "metadata": {
  "kernelspec": {
   "display_name": "ai",
   "language": "python",
   "name": "ai"
  },
  "language_info": {
   "codemirror_mode": {
    "name": "ipython",
    "version": 3
   },
   "file_extension": ".py",
   "mimetype": "text/x-python",
   "name": "python",
   "nbconvert_exporter": "python",
   "pygments_lexer": "ipython3",
   "version": "3.7.16"
  }
 },
 "nbformat": 4,
 "nbformat_minor": 5
}
