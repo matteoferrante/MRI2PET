{
 "cells": [
  {
   "cell_type": "code",
   "execution_count": 94,
   "id": "865fe199-dde3-49aa-936a-7c46116ace47",
   "metadata": {},
   "outputs": [],
   "source": [
    "import pandas as pd\n",
    "import numpy as np\n",
    "import os\n",
    "import glob\n",
    "import shutil"
   ]
  },
  {
   "cell_type": "code",
   "execution_count": 44,
   "id": "fa5c3212-177b-476b-8350-de6dd9987361",
   "metadata": {},
   "outputs": [],
   "source": [
    "df=pd.read_csv(\"mripet_genotype.csv\",sep=\";\")"
   ]
  },
  {
   "cell_type": "code",
   "execution_count": 45,
   "id": "c6dc0a7f-7e97-438f-b826-44192b8321e1",
   "metadata": {},
   "outputs": [],
   "source": [
    "df.Order.dropna()\n",
    "\n",
    "df[\"Name\"]=df['Name'].dropna().apply(lambda x: x.lower())"
   ]
  },
  {
   "cell_type": "code",
   "execution_count": 53,
   "id": "2faf00c6-2a79-49fe-a61b-f6085a649366",
   "metadata": {},
   "outputs": [
    {
     "name": "stdout",
     "output_type": "stream",
     "text": [
      "PBRKOA033_102819_suv_orientOK_skullstripped.nii.gz\n",
      "PBRKOA_KOA005_041119_suv_orientOK_skullstripped.nii.gz\n"
     ]
    }
   ],
   "source": [
    "genotypes=[]\n",
    "for i in df.Order.dropna():\n",
    "    g=df[df.Name==i.split(\"_suv\")[0].lower()].Genotype.values\n",
    "    \n",
    "    if len(g)==0:\n",
    "        print(i)\n",
    "        genotypes.append(\"GG\")\n",
    "    else:\n",
    "        genotypes.append(g[0])\n",
    "    # print(genotypes[-1])\n",
    "    "
   ]
  },
  {
   "cell_type": "code",
   "execution_count": 65,
   "id": "9018a437-5d6c-4efc-ab32-1be94eb719f5",
   "metadata": {},
   "outputs": [],
   "source": [
    "out=pd.DataFrame(columns=[\"intercept\",\"genotype\"])\n",
    "out[\"intercept\"]=[1]*len(genotypes)\n",
    "out[\"genotype\"]=[1. if i==\"GG\" else 0. for i in genotypes ]"
   ]
  },
  {
   "cell_type": "code",
   "execution_count": 66,
   "id": "b559ff29-278a-4e81-8f8b-7a00175e29ea",
   "metadata": {},
   "outputs": [],
   "source": [
    "out.to_csv(\"genotype_matrix.csv\",index=False,header=False)"
   ]
  },
  {
   "cell_type": "code",
   "execution_count": 69,
   "id": "ed69334e-4d82-4977-a9f6-0538989897c0",
   "metadata": {},
   "outputs": [],
   "source": [
    "np.savetxt(\"genotype_matrix.txt\", out.values)"
   ]
  },
  {
   "cell_type": "code",
   "execution_count": 72,
   "id": "24770a16-7c38-4ca1-a975-0f27c54d52ec",
   "metadata": {},
   "outputs": [],
   "source": [
    "files=\"/home/matteo/data/MRI-PET-AI/regressed_data\""
   ]
  },
  {
   "cell_type": "code",
   "execution_count": 82,
   "id": "494ec1cc-9aa0-48f1-b9f9-31776202d64b",
   "metadata": {},
   "outputs": [],
   "source": [
    "base=\"/home/matteo/data/MRI-PET-AI\"\n"
   ]
  },
  {
   "cell_type": "code",
   "execution_count": 79,
   "id": "8dd2bf04-c83f-4577-9402-06975ba62132",
   "metadata": {},
   "outputs": [],
   "source": [
    "for i,name in enumerate(df.Order.dropna().values):\n",
    "    in_name=os.path.join(files,f\"suv_{str(i).zfill(4)}.nii.gz\")\n",
    "    os.rename(in_name,os.path.join(files,name))"
   ]
  },
  {
   "cell_type": "code",
   "execution_count": 73,
   "id": "ae518942-39bf-459c-bf32-a981098c0bdd",
   "metadata": {},
   "outputs": [
    {
     "data": {
      "text/plain": [
       "203"
      ]
     },
     "execution_count": 73,
     "metadata": {},
     "output_type": "execute_result"
    }
   ],
   "source": [
    "df.Order.dropna().values"
   ]
  },
  {
   "cell_type": "code",
   "execution_count": 77,
   "id": "47003484-15d9-42f1-a441-7f4c39534906",
   "metadata": {},
   "outputs": [],
   "source": [
    "for i,name in enumerate(df.Order.dropna().values):\n",
    "    in_name=os.path.join(files,f\"suv_{str(i).zfill(4)}.nii.gz\")\n",
    "    os.remove(name)"
   ]
  },
  {
   "cell_type": "markdown",
   "id": "191bb937-0ac5-456e-b819-3886b7387738",
   "metadata": {},
   "source": [
    "## final dir"
   ]
  },
  {
   "cell_type": "code",
   "execution_count": 116,
   "id": "b26c7934-5c19-44e0-8490-6da4d1ffd1da",
   "metadata": {},
   "outputs": [
    {
     "name": "stdout",
     "output_type": "stream",
     "text": [
      "IGN_CLBP001_01\n",
      "IGN_CLBP001_02\n",
      "IGN_CLBP002_01\n",
      "IGN_CLBP002_02\n",
      "IGN_CLBP003_01\n",
      "IGN_CLBP004_01\n",
      "IGN_CLBP004_02\n",
      "IGN_CLBP005_01\n",
      "IGN_CLBP005_02\n",
      "IGN_CLBP006_01\n",
      "IGN_CLBP006_02\n",
      "IGN_CLBP007_01\n",
      "IGN_CLBP007_02\n",
      "IGN_CLBP008_01_REDO\n",
      "IGN_CLBP008_01\n",
      "IGN_CLBP008_02\n",
      "IGN_CLBP009_01\n",
      "IGN_CLBP009_02\n",
      "IGN_CLBP010_01\n",
      "IGN_CLBP010_02\n",
      "IGN_CLBP012_01\n",
      "IGN_CLBP012_02\n",
      "IGN_CLBP015_01\n",
      "IGN_CLBP015_02\n",
      "IGN_CLBP017_01\n",
      "IGN_CLBP017_02\n",
      "IGN_CLBP018_01\n",
      "IGN_CLBP018_02\n",
      "IGN_CLBP020_01\n",
      "IGN_CLBP020_02\n",
      "IGN_CLBP022_01\n",
      "IGN_CLBP022_02\n",
      "IGN_CLBP023_01\n",
      "IGN_CLBP023_02\n",
      "IGN_CLBP026_01\n",
      "IGN_CLBP026_02\n",
      "IGN_CLBP027_01\n",
      "IGN_CLBP027_02\n",
      "IGN_CLBP028_01\n",
      "IGN_CLBP028_02\n",
      "IGN_CLBP031_01\n",
      "IGN_CLBP031_02\n",
      "IGN_CLBP033_01\n",
      "IGN_CLBP033_02\n",
      "IGN_CLBP034_01\n",
      "IGN_CLBP034_02\n",
      "IGN_CLBP035_01\n",
      "IGN_CLBP036_01\n",
      "IGN_CLBP037_01\n",
      "IGN_CLBP037_02\n",
      "IGN_CLBP038_01\n",
      "IGN_CLBP038_02\n",
      "IGN_CLBP041_01\n",
      "IGN_CLBP041_02\n",
      "IGN_CLBP042_01\n",
      "IGN_CLBP042_02\n",
      "IGN_CLBP043_01\n",
      "IGN_CLBP043_02\n",
      "IGN_CLBP044_01\n",
      "IGN_CLBP046_01_A\n",
      "IGN_CLBP049_01\n",
      "IGN_CLBP050_01\n",
      "IGN_CLBP051_01\n",
      "IGN_CLBP052_01\n",
      "IGN_CLBP053_01\n",
      "IGN_CLBP053_02\n",
      "IGN_CLBP054_01\n",
      "IGN_CLBP056_01\n",
      "IGN_CLBP057_01\n",
      "IGN_CLBP058_01\n",
      "IGN_CLBP060_01\n",
      "IGN_CLBP061_01\n",
      "IGN_CLBP062_01\n",
      "IGN_CLBP065_01\n",
      "IGN_CLBP066_01\n",
      "IGN_CLBP067_01\n",
      "IGN_CLBP067_02\n",
      "IGN_CLBP068_01\n",
      "IGN_CLBP069_01\n",
      "IGN_CLBP070_01\n",
      "IGN_CLBP071_01\n",
      "IGN_CLBP073_01_redo\n",
      "IGN_CLBP074_01\n",
      "IGN_CLBP075_01\n",
      "IGN_CLBP076_01\n",
      "IGN_CLBP077_01\n",
      "IGN_CLBP079_01\n",
      "IGN_CLBP080_01\n",
      "PBRKOA033_102819\n",
      "PBRKOA_HC001_052417\n",
      "PBRKOA_HC002\n",
      "PBRKOA_HC004_210617\n",
      "PBRKOA_HC006_062317\n",
      "PBRKOA_HC008_060618\n",
      "PBRKOA_HC010\n",
      "PBRKOA_HC011_090518\n",
      "PBRKOA_HC012_090618\n",
      "PBRKOA_HC013_100318\n",
      "PBRKOA_HC017_041119\n",
      "PBRKOA_HC018_01\n",
      "PBRKOA_HC019_01\n",
      "PBRKOA_HC020_01\n",
      "PBRKOA_HC021_01\n",
      "PBRKOA_HC022_01\n",
      "PBRKOA_HC023_01\n",
      "PBRKOA_HC024_01\n",
      "PBRKOA_HC025_02\n",
      "PBRKOA_HC026_01\n",
      "PBRKOA_HC028_01\n",
      "PBRKOA_HC030_01\n",
      "PBRKOA_HC032\n",
      "PBRKOA_HC034_01\n",
      "PBRKOA_HC035_01\n",
      "PBRKOA_HC037_01\n",
      "PBRKOA_HC040_01\n",
      "PBRKOA_HC041_01\n",
      "PBRKOA_HC043_01\n",
      "PBRKOA_KOA001_091317\n",
      "PBRKOA_KOA001_100918\n",
      "PBRKOA_KOA001_111418\n",
      "PBRKOA_KOA002_011018\n",
      "PBRKOA_KOA002_021419\n",
      "PBRKOA_KOA003_011019\n",
      "PBRKOA_KOA003_011918\n",
      "PBRKOA_KOA005_031518\n",
      "PBRKOA_KOA005_041119\n",
      "PBRKOA_KOA006_041218\n",
      "PBRKOA_KOA006_052919_correctID\n",
      "PBRKOA_KOA007_041918\n",
      "PBRKOA_KOA009_051518\n",
      "PBRKOA_KOA010_100418\n",
      "PBRKOA_KOA011_120319\n",
      "PBRKOA_KOA011\n",
      "PBRKOA_KOA013_112018\n",
      "PBRKOA_KOA013_121818\n",
      "PBRKOA_KOA015_021219\n",
      "PBRKOA_KOA017_032119\n",
      "PBRKOA_KOA017_090120\n",
      "PBRKOA_KOA018_032019\n",
      "PBRKOA_KOA018_051719\n",
      "PBRKOA_KOA018_081120\n",
      "PBRKOA_KOA019_042519\n",
      "PBRKOA_KOA021_040419\n",
      "PBRKOA_KOA022_041719\n",
      "PBRKOA_KOA022_052119\n",
      "PBRKOA_KOA022_082720\n",
      "PBRKOA_KOA023_053019\n",
      "PBRKOA_KOA023_070319\n",
      "PBRKOA_KOA023_090920\n",
      "PBRKOA_KOA024_060519\n",
      "PBRKOA_KOA025_062619\n",
      "PBRKOA_KOA025_080619\n",
      "PBRKOA_KOA025_090220\n",
      "PBRKOA_KOA026_060619\n",
      "PBRKOA_KOA027_071619\n",
      "PBRKOA_KOA027_080520\n",
      "PBRKOA_KOA027_080719\n",
      "PBRKOA_KOA028_072619\n",
      "PBRKOA_KOA029_091019\n",
      "PBRKOA_KOA029_100120\n",
      "PBRKOA_KOA029_103019\n",
      "PBRKOA_KOA030_092519\n",
      "PBRKOA_KOA030_102820\n",
      "PBRKOA_KOA030_112519\n",
      "PBRKOA_KOA031_091019\n",
      "PBRKOA_KOA031_102319\n",
      "PBRKOA_KOA033_072621\n",
      "PBRKOA_KOA035_011020\n",
      "PBRKOA_KOA035_112719\n",
      "PBRKOA_KOA035_120920\n",
      "PBRKOA_KOA036_103119\n",
      "PBRKOA_KOA037_012320\n",
      "PBRKOA_KOA037_112019\n",
      "PBRKOA_KOA038_011520\n",
      "PBRKOA_KOA038_012721\n",
      "PBRKOA_KOA039_121620\n",
      "PBRKOA_KOA039_121819\n",
      "PBRKOA_KOA040_012420\n",
      "PBRKOA_KOA040_031020\n",
      "PBRKOA_KOA041_012920\n",
      "PBRKOA_KOA042_030420\n",
      "PBRKOA_KOA043_030520\n",
      "PBRKOA_KOA043_032221\n",
      "PBRKOA_KOA044_072921\n",
      "PBRKOA_KOA044_080420\n",
      "PBRKOA_KOA044_090820\n",
      "PBRKOA_KOA045_072920\n",
      "PBRKOA_KOA045_090320\n",
      "PBRKOA_KOA045_090721\n",
      "PBRKOA_KOA047_080420\n",
      "PBRKOA_KOA048_011421\n",
      "PBRKOA_KOA048_103020\n",
      "PBRKOA_KOA048_120121\n",
      "PBRKOA_KOA049_012122\n",
      "PBRKOA_KOA049_102820\n",
      "PBRKOA_KOA050_111820\n",
      "PBRKOA_KOA051_110420\n",
      "PBRKOA_KOA051_110521\n",
      "PBRKOA_KOA055_012921\n",
      "PBRKOA_KOA057_031021\n",
      "PBRKOA_KOA058_031821\n",
      "PBRKOA_KOA059_042721\n",
      "PBRKOA_KOA064_080321\n"
     ]
    }
   ],
   "source": [
    "dirs=[df.Order.dropna().values]\n",
    "# dirs=[i.split(\"_suv\")[0] for i in dirs]\n",
    "dirs=list(np.array([i for i in dirs]).squeeze())\n",
    "\n",
    "for filename in dirs:\n",
    "\n",
    "    d=filename.split(\"_suv\")[0]\n",
    "    td=os.path.join(files,d)\n",
    "    os.makedirs(td,exist_ok=True)\n",
    "    \n",
    "    print(d)\n",
    "    \n",
    "    #look for T1\n",
    "    t1_path=glob.glob(os.path.join(base,d,\"*.nii.gz\"))\n",
    "    t1_path=[i for i in t1_path if \"T1\" in i][0]\n",
    "    t1_name=t1_path.split(\"/\")[-1]\n",
    "    t1_output=os.path.join(td,t1_name)\n",
    "    \n",
    "    #look for PET\n",
    "    pet_path=os.path.join(files,filename)\n",
    "    \n",
    "    \n",
    "    pet_output=os.path.join(td,filename)\n",
    "    shutil.copy(t1_path,t1_output)\n",
    "    shutil.copy(pet_path,pet_output)\n",
    "    \n",
    "\n",
    "    # break"
   ]
  }
 ],
 "metadata": {
  "kernelspec": {
   "display_name": "Python 3 (ipykernel)",
   "language": "python",
   "name": "python3"
  },
  "language_info": {
   "codemirror_mode": {
    "name": "ipython",
    "version": 3
   },
   "file_extension": ".py",
   "mimetype": "text/x-python",
   "name": "python",
   "nbconvert_exporter": "python",
   "pygments_lexer": "ipython3",
   "version": "3.7.16"
  }
 },
 "nbformat": 4,
 "nbformat_minor": 5
}
